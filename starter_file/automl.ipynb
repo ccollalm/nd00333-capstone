{
  "cells": [
    {
      "cell_type": "markdown",
      "source": [
        "# Automated ML\n",
        "\n",
        "TODO: Import Dependencies. In the cell below, import all the dependencies that you will need to complete the project."
      ],
      "metadata": {}
    },
    {
      "cell_type": "code",
      "source": [
        "import logging\r\n",
        "import os\r\n",
        "import joblib\r\n",
        "import pandas as pd\r\n",
        "\r\n",
        "import azureml.core\r\n",
        "from azureml.core import Dataset\r\n",
        "from azureml.core.experiment import Experiment\r\n",
        "from azureml.core.workspace import Workspace\r\n",
        "from azureml.core.compute import AmlCompute\r\n",
        "from azureml.core.compute import ComputeTarget\r\n",
        "from azureml.core.compute_target import ComputeTargetException\r\n",
        "from azureml.train.automl import AutoMLConfig\r\n",
        "from azureml.core.dataset import Dataset\r\n",
        "from azureml.data.dataset_factory import TabularDatasetFactory\r\n",
        "\r\n",
        "from sklearn.model_selection import train_test_split\r\n",
        "\r\n",
        "# Check core SDK version number\r\n",
        "print(\"SDK version:\", azureml.core.VERSION)"
      ],
      "outputs": [
        {
          "output_type": "stream",
          "name": "stdout",
          "text": "SDK version: 1.38.0\n"
        }
      ],
      "execution_count": 17,
      "metadata": {
        "gather": {
          "logged": 1645963454180
        },
        "jupyter": {
          "outputs_hidden": false,
          "source_hidden": false
        },
        "nteract": {
          "transient": {
            "deleting": false
          }
        }
      }
    },
    {
      "cell_type": "markdown",
      "source": [
        "## Dataset\n",
        "\n",
        "### Overview\n",
        "TODO: In this markdown cell, give an overview of the dataset you are using. Also mention the task you will be performing.\n",
        "\n",
        "\n",
        "TODO: Get data. In the cell below, write code to access the data you will be using in this project. Remember that the dataset needs to be external."
      ],
      "metadata": {}
    },
    {
      "cell_type": "code",
      "source": [
        "ws = Workspace.from_config()\r\n",
        "print(\"Workspace: \" + ws.name, \"Region: \" + ws.location, sep = '\\n')\r\n",
        "\r\n",
        "# choose a name for experiment\r\n",
        "experiment_name = 'automl-classification-experiment'\r\n",
        "\r\n",
        "experiment=Experiment(ws, experiment_name)\r\n"
      ],
      "outputs": [
        {
          "output_type": "stream",
          "name": "stdout",
          "text": "Workspace: quick-starts-ws-187626\nRegion: southcentralus\n"
        }
      ],
      "execution_count": 2,
      "metadata": {
        "jupyter": {
          "source_hidden": false,
          "outputs_hidden": false
        },
        "nteract": {
          "transient": {
            "deleting": false
          }
        },
        "gather": {
          "logged": 1645962208006
        }
      }
    },
    {
      "cell_type": "code",
      "source": [
        "fileHeartFailure = 'data/heart_failure_clinical_records_dataset.csv'\r\n",
        "df = pd.read_csv(fileHeartFailure, encoding='latin')\r\n",
        "df.head(5)"
      ],
      "outputs": [
        {
          "output_type": "execute_result",
          "execution_count": 3,
          "data": {
            "text/plain": "    age  anaemia  creatinine_phosphokinase  diabetes  ejection_fraction  \\\n0  75.0        0                       582         0                 20   \n1  55.0        0                      7861         0                 38   \n2  65.0        0                       146         0                 20   \n3  50.0        1                       111         0                 20   \n4  65.0        1                       160         1                 20   \n\n   high_blood_pressure  platelets  serum_creatinine  serum_sodium  sex  \\\n0                    1  265000.00               1.9           130    1   \n1                    0  263358.03               1.1           136    1   \n2                    0  162000.00               1.3           129    1   \n3                    0  210000.00               1.9           137    1   \n4                    0  327000.00               2.7           116    0   \n\n   smoking  time  DEATH_EVENT  \n0        0     4            1  \n1        0     6            1  \n2        1     7            1  \n3        0     7            1  \n4        0     8            1  ",
            "text/html": "<div>\n<style scoped>\n    .dataframe tbody tr th:only-of-type {\n        vertical-align: middle;\n    }\n\n    .dataframe tbody tr th {\n        vertical-align: top;\n    }\n\n    .dataframe thead th {\n        text-align: right;\n    }\n</style>\n<table border=\"1\" class=\"dataframe\">\n  <thead>\n    <tr style=\"text-align: right;\">\n      <th></th>\n      <th>age</th>\n      <th>anaemia</th>\n      <th>creatinine_phosphokinase</th>\n      <th>diabetes</th>\n      <th>ejection_fraction</th>\n      <th>high_blood_pressure</th>\n      <th>platelets</th>\n      <th>serum_creatinine</th>\n      <th>serum_sodium</th>\n      <th>sex</th>\n      <th>smoking</th>\n      <th>time</th>\n      <th>DEATH_EVENT</th>\n    </tr>\n  </thead>\n  <tbody>\n    <tr>\n      <th>0</th>\n      <td>75.0</td>\n      <td>0</td>\n      <td>582</td>\n      <td>0</td>\n      <td>20</td>\n      <td>1</td>\n      <td>265000.00</td>\n      <td>1.9</td>\n      <td>130</td>\n      <td>1</td>\n      <td>0</td>\n      <td>4</td>\n      <td>1</td>\n    </tr>\n    <tr>\n      <th>1</th>\n      <td>55.0</td>\n      <td>0</td>\n      <td>7861</td>\n      <td>0</td>\n      <td>38</td>\n      <td>0</td>\n      <td>263358.03</td>\n      <td>1.1</td>\n      <td>136</td>\n      <td>1</td>\n      <td>0</td>\n      <td>6</td>\n      <td>1</td>\n    </tr>\n    <tr>\n      <th>2</th>\n      <td>65.0</td>\n      <td>0</td>\n      <td>146</td>\n      <td>0</td>\n      <td>20</td>\n      <td>0</td>\n      <td>162000.00</td>\n      <td>1.3</td>\n      <td>129</td>\n      <td>1</td>\n      <td>1</td>\n      <td>7</td>\n      <td>1</td>\n    </tr>\n    <tr>\n      <th>3</th>\n      <td>50.0</td>\n      <td>1</td>\n      <td>111</td>\n      <td>0</td>\n      <td>20</td>\n      <td>0</td>\n      <td>210000.00</td>\n      <td>1.9</td>\n      <td>137</td>\n      <td>1</td>\n      <td>0</td>\n      <td>7</td>\n      <td>1</td>\n    </tr>\n    <tr>\n      <th>4</th>\n      <td>65.0</td>\n      <td>1</td>\n      <td>160</td>\n      <td>1</td>\n      <td>20</td>\n      <td>0</td>\n      <td>327000.00</td>\n      <td>2.7</td>\n      <td>116</td>\n      <td>0</td>\n      <td>0</td>\n      <td>8</td>\n      <td>1</td>\n    </tr>\n  </tbody>\n</table>\n</div>"
          },
          "metadata": {}
        }
      ],
      "execution_count": 3,
      "metadata": {
        "jupyter": {
          "source_hidden": false,
          "outputs_hidden": false
        },
        "nteract": {
          "transient": {
            "deleting": false
          }
        },
        "gather": {
          "logged": 1645962220343
        }
      }
    },
    {
      "cell_type": "code",
      "source": [
        "# Default datastore\r\n",
        "default_store = ws.get_default_datastore() \r\n",
        "\r\n",
        "default_store.upload_files([fileHeartFailure], \r\n",
        "                           target_path = 'data', \r\n",
        "                           overwrite = True, \r\n",
        "                           show_progress = True)\r\n",
        "\r\n",
        "heart_failure_data = Dataset.Tabular.from_delimited_files(default_store.path('data/heart_failure_clinical_records_dataset.csv'))"
      ],
      "outputs": [
        {
          "output_type": "stream",
          "name": "stderr",
          "text": "\"datastore.upload_files\" is deprecated after version 1.0.69. Please use \"FileDatasetFactory.upload_directory\" instead. See Dataset API change notice at https://aka.ms/dataset-deprecation.\n"
        },
        {
          "output_type": "stream",
          "name": "stdout",
          "text": "Uploading an estimated of 1 files\nUploading data/heart_failure_clinical_records_dataset.csv\nUploaded data/heart_failure_clinical_records_dataset.csv, 1 files out of an estimated total of 1\nUploaded 1 files\n"
        }
      ],
      "execution_count": 4,
      "metadata": {
        "jupyter": {
          "source_hidden": false,
          "outputs_hidden": false
        },
        "nteract": {
          "transient": {
            "deleting": false
          }
        },
        "gather": {
          "logged": 1645962232518
        }
      }
    },
    {
      "cell_type": "code",
      "source": [
        "key = 'heart_failure_data'\r\n",
        "description_text = 'Heart Failure Clinical Records Dataset from Kaggle'\r\n",
        "\r\n",
        "data_set = heart_failure_data.register(workspace=ws,\r\n",
        "                                   name=key,\r\n",
        "                                   description=key,)"
      ],
      "outputs": [],
      "execution_count": 5,
      "metadata": {
        "jupyter": {
          "source_hidden": false,
          "outputs_hidden": false
        },
        "nteract": {
          "transient": {
            "deleting": false
          }
        },
        "gather": {
          "logged": 1645962235980
        }
      }
    },
    {
      "cell_type": "code",
      "source": [
        "df = data_set.to_pandas_dataframe()\r\n",
        "df.describe()"
      ],
      "outputs": [
        {
          "output_type": "execute_result",
          "execution_count": 6,
          "data": {
            "text/plain": "              age     anaemia  creatinine_phosphokinase    diabetes  \\\ncount  299.000000  299.000000                299.000000  299.000000   \nmean    60.833893    0.431438                581.839465    0.418060   \nstd     11.894809    0.496107                970.287881    0.494067   \nmin     40.000000    0.000000                 23.000000    0.000000   \n25%     51.000000    0.000000                116.500000    0.000000   \n50%     60.000000    0.000000                250.000000    0.000000   \n75%     70.000000    1.000000                582.000000    1.000000   \nmax     95.000000    1.000000               7861.000000    1.000000   \n\n       ejection_fraction  high_blood_pressure      platelets  \\\ncount         299.000000           299.000000     299.000000   \nmean           38.083612             0.351171  263358.029264   \nstd            11.834841             0.478136   97804.236869   \nmin            14.000000             0.000000   25100.000000   \n25%            30.000000             0.000000  212500.000000   \n50%            38.000000             0.000000  262000.000000   \n75%            45.000000             1.000000  303500.000000   \nmax            80.000000             1.000000  850000.000000   \n\n       serum_creatinine  serum_sodium         sex    smoking        time  \\\ncount         299.00000    299.000000  299.000000  299.00000  299.000000   \nmean            1.39388    136.625418    0.648829    0.32107  130.260870   \nstd             1.03451      4.412477    0.478136    0.46767   77.614208   \nmin             0.50000    113.000000    0.000000    0.00000    4.000000   \n25%             0.90000    134.000000    0.000000    0.00000   73.000000   \n50%             1.10000    137.000000    1.000000    0.00000  115.000000   \n75%             1.40000    140.000000    1.000000    1.00000  203.000000   \nmax             9.40000    148.000000    1.000000    1.00000  285.000000   \n\n       DEATH_EVENT  \ncount    299.00000  \nmean       0.32107  \nstd        0.46767  \nmin        0.00000  \n25%        0.00000  \n50%        0.00000  \n75%        1.00000  \nmax        1.00000  ",
            "text/html": "<div>\n<style scoped>\n    .dataframe tbody tr th:only-of-type {\n        vertical-align: middle;\n    }\n\n    .dataframe tbody tr th {\n        vertical-align: top;\n    }\n\n    .dataframe thead th {\n        text-align: right;\n    }\n</style>\n<table border=\"1\" class=\"dataframe\">\n  <thead>\n    <tr style=\"text-align: right;\">\n      <th></th>\n      <th>age</th>\n      <th>anaemia</th>\n      <th>creatinine_phosphokinase</th>\n      <th>diabetes</th>\n      <th>ejection_fraction</th>\n      <th>high_blood_pressure</th>\n      <th>platelets</th>\n      <th>serum_creatinine</th>\n      <th>serum_sodium</th>\n      <th>sex</th>\n      <th>smoking</th>\n      <th>time</th>\n      <th>DEATH_EVENT</th>\n    </tr>\n  </thead>\n  <tbody>\n    <tr>\n      <th>count</th>\n      <td>299.000000</td>\n      <td>299.000000</td>\n      <td>299.000000</td>\n      <td>299.000000</td>\n      <td>299.000000</td>\n      <td>299.000000</td>\n      <td>299.000000</td>\n      <td>299.00000</td>\n      <td>299.000000</td>\n      <td>299.000000</td>\n      <td>299.00000</td>\n      <td>299.000000</td>\n      <td>299.00000</td>\n    </tr>\n    <tr>\n      <th>mean</th>\n      <td>60.833893</td>\n      <td>0.431438</td>\n      <td>581.839465</td>\n      <td>0.418060</td>\n      <td>38.083612</td>\n      <td>0.351171</td>\n      <td>263358.029264</td>\n      <td>1.39388</td>\n      <td>136.625418</td>\n      <td>0.648829</td>\n      <td>0.32107</td>\n      <td>130.260870</td>\n      <td>0.32107</td>\n    </tr>\n    <tr>\n      <th>std</th>\n      <td>11.894809</td>\n      <td>0.496107</td>\n      <td>970.287881</td>\n      <td>0.494067</td>\n      <td>11.834841</td>\n      <td>0.478136</td>\n      <td>97804.236869</td>\n      <td>1.03451</td>\n      <td>4.412477</td>\n      <td>0.478136</td>\n      <td>0.46767</td>\n      <td>77.614208</td>\n      <td>0.46767</td>\n    </tr>\n    <tr>\n      <th>min</th>\n      <td>40.000000</td>\n      <td>0.000000</td>\n      <td>23.000000</td>\n      <td>0.000000</td>\n      <td>14.000000</td>\n      <td>0.000000</td>\n      <td>25100.000000</td>\n      <td>0.50000</td>\n      <td>113.000000</td>\n      <td>0.000000</td>\n      <td>0.00000</td>\n      <td>4.000000</td>\n      <td>0.00000</td>\n    </tr>\n    <tr>\n      <th>25%</th>\n      <td>51.000000</td>\n      <td>0.000000</td>\n      <td>116.500000</td>\n      <td>0.000000</td>\n      <td>30.000000</td>\n      <td>0.000000</td>\n      <td>212500.000000</td>\n      <td>0.90000</td>\n      <td>134.000000</td>\n      <td>0.000000</td>\n      <td>0.00000</td>\n      <td>73.000000</td>\n      <td>0.00000</td>\n    </tr>\n    <tr>\n      <th>50%</th>\n      <td>60.000000</td>\n      <td>0.000000</td>\n      <td>250.000000</td>\n      <td>0.000000</td>\n      <td>38.000000</td>\n      <td>0.000000</td>\n      <td>262000.000000</td>\n      <td>1.10000</td>\n      <td>137.000000</td>\n      <td>1.000000</td>\n      <td>0.00000</td>\n      <td>115.000000</td>\n      <td>0.00000</td>\n    </tr>\n    <tr>\n      <th>75%</th>\n      <td>70.000000</td>\n      <td>1.000000</td>\n      <td>582.000000</td>\n      <td>1.000000</td>\n      <td>45.000000</td>\n      <td>1.000000</td>\n      <td>303500.000000</td>\n      <td>1.40000</td>\n      <td>140.000000</td>\n      <td>1.000000</td>\n      <td>1.00000</td>\n      <td>203.000000</td>\n      <td>1.00000</td>\n    </tr>\n    <tr>\n      <th>max</th>\n      <td>95.000000</td>\n      <td>1.000000</td>\n      <td>7861.000000</td>\n      <td>1.000000</td>\n      <td>80.000000</td>\n      <td>1.000000</td>\n      <td>850000.000000</td>\n      <td>9.40000</td>\n      <td>148.000000</td>\n      <td>1.000000</td>\n      <td>1.00000</td>\n      <td>285.000000</td>\n      <td>1.00000</td>\n    </tr>\n  </tbody>\n</table>\n</div>"
          },
          "metadata": {}
        }
      ],
      "execution_count": 6,
      "metadata": {
        "jupyter": {
          "source_hidden": false,
          "outputs_hidden": false
        },
        "nteract": {
          "transient": {
            "deleting": false
          }
        },
        "gather": {
          "logged": 1645962238942
        }
      }
    },
    {
      "cell_type": "code",
      "source": [
        "data_set.take(5).to_pandas_dataframe()"
      ],
      "outputs": [
        {
          "output_type": "execute_result",
          "execution_count": 7,
          "data": {
            "text/plain": "    age  anaemia  creatinine_phosphokinase  diabetes  ejection_fraction  \\\n0  75.0        0                       582         0                 20   \n1  55.0        0                      7861         0                 38   \n2  65.0        0                       146         0                 20   \n3  50.0        1                       111         0                 20   \n4  65.0        1                       160         1                 20   \n\n   high_blood_pressure  platelets  serum_creatinine  serum_sodium  sex  \\\n0                    1  265000.00               1.9           130    1   \n1                    0  263358.03               1.1           136    1   \n2                    0  162000.00               1.3           129    1   \n3                    0  210000.00               1.9           137    1   \n4                    0  327000.00               2.7           116    0   \n\n   smoking  time  DEATH_EVENT  \n0        0     4            1  \n1        0     6            1  \n2        1     7            1  \n3        0     7            1  \n4        0     8            1  ",
            "text/html": "<div>\n<style scoped>\n    .dataframe tbody tr th:only-of-type {\n        vertical-align: middle;\n    }\n\n    .dataframe tbody tr th {\n        vertical-align: top;\n    }\n\n    .dataframe thead th {\n        text-align: right;\n    }\n</style>\n<table border=\"1\" class=\"dataframe\">\n  <thead>\n    <tr style=\"text-align: right;\">\n      <th></th>\n      <th>age</th>\n      <th>anaemia</th>\n      <th>creatinine_phosphokinase</th>\n      <th>diabetes</th>\n      <th>ejection_fraction</th>\n      <th>high_blood_pressure</th>\n      <th>platelets</th>\n      <th>serum_creatinine</th>\n      <th>serum_sodium</th>\n      <th>sex</th>\n      <th>smoking</th>\n      <th>time</th>\n      <th>DEATH_EVENT</th>\n    </tr>\n  </thead>\n  <tbody>\n    <tr>\n      <th>0</th>\n      <td>75.0</td>\n      <td>0</td>\n      <td>582</td>\n      <td>0</td>\n      <td>20</td>\n      <td>1</td>\n      <td>265000.00</td>\n      <td>1.9</td>\n      <td>130</td>\n      <td>1</td>\n      <td>0</td>\n      <td>4</td>\n      <td>1</td>\n    </tr>\n    <tr>\n      <th>1</th>\n      <td>55.0</td>\n      <td>0</td>\n      <td>7861</td>\n      <td>0</td>\n      <td>38</td>\n      <td>0</td>\n      <td>263358.03</td>\n      <td>1.1</td>\n      <td>136</td>\n      <td>1</td>\n      <td>0</td>\n      <td>6</td>\n      <td>1</td>\n    </tr>\n    <tr>\n      <th>2</th>\n      <td>65.0</td>\n      <td>0</td>\n      <td>146</td>\n      <td>0</td>\n      <td>20</td>\n      <td>0</td>\n      <td>162000.00</td>\n      <td>1.3</td>\n      <td>129</td>\n      <td>1</td>\n      <td>1</td>\n      <td>7</td>\n      <td>1</td>\n    </tr>\n    <tr>\n      <th>3</th>\n      <td>50.0</td>\n      <td>1</td>\n      <td>111</td>\n      <td>0</td>\n      <td>20</td>\n      <td>0</td>\n      <td>210000.00</td>\n      <td>1.9</td>\n      <td>137</td>\n      <td>1</td>\n      <td>0</td>\n      <td>7</td>\n      <td>1</td>\n    </tr>\n    <tr>\n      <th>4</th>\n      <td>65.0</td>\n      <td>1</td>\n      <td>160</td>\n      <td>1</td>\n      <td>20</td>\n      <td>0</td>\n      <td>327000.00</td>\n      <td>2.7</td>\n      <td>116</td>\n      <td>0</td>\n      <td>0</td>\n      <td>8</td>\n      <td>1</td>\n    </tr>\n  </tbody>\n</table>\n</div>"
          },
          "metadata": {}
        }
      ],
      "execution_count": 7,
      "metadata": {
        "jupyter": {
          "source_hidden": false,
          "outputs_hidden": false
        },
        "nteract": {
          "transient": {
            "deleting": false
          }
        },
        "gather": {
          "logged": 1645962243279
        }
      }
    },
    {
      "cell_type": "markdown",
      "source": [
        "## AutoML Configuration\n",
        "\n",
        "TODO: Explain why you chose the automl settings and cofiguration you used below."
      ],
      "metadata": {}
    },
    {
      "cell_type": "code",
      "source": [
        "amlcompute_cluster_name = \"auto-ml\"\r\n",
        "\r\n",
        "# Verify that cluster does not exist already\r\n",
        "try:\r\n",
        "    compute_target = ComputeTarget(workspace=ws, name=amlcompute_cluster_name)\r\n",
        "    print('Found existing cluster, use it.')\r\n",
        "except ComputeTargetException:\r\n",
        "    compute_config = AmlCompute.provisioning_configuration(vm_size='STANDARD_D2_V2',\r\n",
        "                                                           vm_priority= 'dedicated',\r\n",
        "                                                           min_nodes=1,\r\n",
        "                                                           max_nodes=6)\r\n",
        "    compute_target = ComputeTarget.create(ws, amlcompute_cluster_name, compute_config)\r\n",
        "\r\n",
        "compute_target.wait_for_completion(show_output=True, min_node_count = 1, timeout_in_minutes = 10)"
      ],
      "outputs": [
        {
          "output_type": "stream",
          "name": "stdout",
          "text": "Found existing cluster, use it.\nSucceeded\nAmlCompute wait for completion finished\n\nMinimum number of nodes requested have been provisioned\n"
        }
      ],
      "execution_count": 8,
      "metadata": {
        "jupyter": {
          "source_hidden": false,
          "outputs_hidden": false
        },
        "nteract": {
          "transient": {
            "deleting": false
          }
        },
        "gather": {
          "logged": 1645962248521
        }
      }
    },
    {
      "cell_type": "code",
      "source": [
        "project_folder = './automl'\n",
        "\n",
        "automl_settings = {\n",
        "    \"experiment_timeout_minutes\": 30,\n",
        "    \"max_concurrent_iterations\": 5,\n",
        "    \"primary_metric\" : 'AUC_weighted'\n",
        "}\n",
        "automl_config = AutoMLConfig(compute_target=compute_target,\n",
        "                             task = \"classification\",\n",
        "                             training_data=data_set,\n",
        "                             label_column_name=\"DEATH_EVENT\", \n",
        "                             path = project_folder,\n",
        "                             enable_early_stopping= True,\n",
        "                             featurization= 'auto',\n",
        "                             debug_log = \"automl_errors.log\",\n",
        "                             **automl_settings\n",
        "                            )"
      ],
      "outputs": [],
      "execution_count": 9,
      "metadata": {
        "gather": {
          "logged": 1645962251625
        },
        "jupyter": {
          "outputs_hidden": false,
          "source_hidden": false
        },
        "nteract": {
          "transient": {
            "deleting": false
          }
        }
      }
    },
    {
      "cell_type": "code",
      "source": [
        "# TODO: Submit your experiment\n",
        "remote_run = experiment.submit(automl_config)"
      ],
      "outputs": [
        {
          "output_type": "stream",
          "name": "stdout",
          "text": "Submitting remote run.\n"
        },
        {
          "output_type": "display_data",
          "data": {
            "text/plain": "<IPython.core.display.HTML object>",
            "text/html": "<table style=\"width:100%\"><tr><th>Experiment</th><th>Id</th><th>Type</th><th>Status</th><th>Details Page</th><th>Docs Page</th></tr><tr><td>automl-classification-experiment</td><td>AutoML_a26b767d-03bd-4304-b1b8-e5edd42d6ab9</td><td>automl</td><td>NotStarted</td><td><a href=\"https://ml.azure.com/runs/AutoML_a26b767d-03bd-4304-b1b8-e5edd42d6ab9?wsid=/subscriptions/aa7cf8e8-d23f-4bce-a7b9-1f0b4e0ac8ee/resourcegroups/aml-quickstarts-187626/workspaces/quick-starts-ws-187626&amp;tid=660b3398-b80e-49d2-bc5b-ac1dc93b5254\" target=\"_blank\" rel=\"noopener\">Link to Azure Machine Learning studio</a></td><td><a href=\"https://docs.microsoft.com/en-us/python/api/overview/azure/ml/intro?view=azure-ml-py\" target=\"_blank\" rel=\"noopener\">Link to Documentation</a></td></tr></table>"
          },
          "metadata": {}
        }
      ],
      "execution_count": 10,
      "metadata": {
        "gather": {
          "logged": 1645962260422
        },
        "jupyter": {
          "outputs_hidden": false,
          "source_hidden": false
        },
        "nteract": {
          "transient": {
            "deleting": false
          }
        }
      }
    },
    {
      "cell_type": "markdown",
      "source": [
        "## Run Details\n",
        "\n",
        "OPTIONAL: Write about the different models trained and their performance. Why do you think some models did better than others?\n",
        "\n",
        "TODO: In the cell below, use the `RunDetails` widget to show the different experiments."
      ],
      "metadata": {}
    },
    {
      "cell_type": "code",
      "source": [
        "from azureml.widgets import RunDetails\r\n",
        "RunDetails(remote_run).show()"
      ],
      "outputs": [
        {
          "output_type": "display_data",
          "data": {
            "text/plain": "_AutoMLWidget(widget_settings={'childWidgetDisplay': 'popup', 'send_telemetry': False, 'log_level': 'INFO', 's…",
            "application/vnd.jupyter.widget-view+json": {
              "version_major": 2,
              "version_minor": 0,
              "model_id": "0d7a69fdb8174a0ba56c142d379d4ac4"
            }
          },
          "metadata": {}
        },
        {
          "output_type": "display_data",
          "data": {
            "application/aml.mini.widget.v1": "{\"status\": \"Running\", \"workbench_run_details_uri\": \"https://ml.azure.com/runs/AutoML_a26b767d-03bd-4304-b1b8-e5edd42d6ab9?wsid=/subscriptions/aa7cf8e8-d23f-4bce-a7b9-1f0b4e0ac8ee/resourcegroups/aml-quickstarts-187626/workspaces/quick-starts-ws-187626&tid=660b3398-b80e-49d2-bc5b-ac1dc93b5254\", \"run_id\": \"AutoML_a26b767d-03bd-4304-b1b8-e5edd42d6ab9\", \"run_properties\": {\"run_id\": \"AutoML_a26b767d-03bd-4304-b1b8-e5edd42d6ab9\", \"created_utc\": \"2022-02-27T11:44:18.419264Z\", \"properties\": {\"num_iterations\": \"1000\", \"training_type\": \"TrainFull\", \"acquisition_function\": \"EI\", \"primary_metric\": \"AUC_weighted\", \"train_split\": \"0\", \"acquisition_parameter\": \"0\", \"num_cross_validation\": null, \"target\": \"auto-ml\", \"AMLSettingsJsonString\": \"{\\\"path\\\":null,\\\"name\\\":\\\"automl-classification-experiment\\\",\\\"subscription_id\\\":\\\"aa7cf8e8-d23f-4bce-a7b9-1f0b4e0ac8ee\\\",\\\"resource_group\\\":\\\"aml-quickstarts-187626\\\",\\\"workspace_name\\\":\\\"quick-starts-ws-187626\\\",\\\"region\\\":\\\"southcentralus\\\",\\\"compute_target\\\":\\\"auto-ml\\\",\\\"spark_service\\\":null,\\\"azure_service\\\":\\\"remote\\\",\\\"many_models\\\":false,\\\"pipeline_fetch_max_batch_size\\\":1,\\\"enable_batch_run\\\":true,\\\"enable_run_restructure\\\":false,\\\"start_auxiliary_runs_before_parent_complete\\\":false,\\\"enable_code_generation\\\":false,\\\"iterations\\\":1000,\\\"primary_metric\\\":\\\"AUC_weighted\\\",\\\"task_type\\\":\\\"classification\\\",\\\"positive_label\\\":null,\\\"data_script\\\":null,\\\"test_size\\\":0.0,\\\"test_include_predictions_only\\\":false,\\\"validation_size\\\":0.0,\\\"n_cross_validations\\\":null,\\\"y_min\\\":null,\\\"y_max\\\":null,\\\"num_classes\\\":null,\\\"featurization\\\":\\\"auto\\\",\\\"_ignore_package_version_incompatibilities\\\":false,\\\"is_timeseries\\\":false,\\\"max_cores_per_iteration\\\":1,\\\"max_concurrent_iterations\\\":5,\\\"iteration_timeout_minutes\\\":null,\\\"mem_in_mb\\\":null,\\\"enforce_time_on_windows\\\":false,\\\"experiment_timeout_minutes\\\":30,\\\"experiment_exit_score\\\":null,\\\"whitelist_models\\\":null,\\\"blacklist_algos\\\":[\\\"TensorFlowLinearClassifier\\\",\\\"TensorFlowDNN\\\"],\\\"supported_models\\\":[\\\"GradientBoosting\\\",\\\"SVM\\\",\\\"DecisionTree\\\",\\\"LogisticRegression\\\",\\\"TensorFlowDNN\\\",\\\"BernoulliNaiveBayes\\\",\\\"LightGBM\\\",\\\"SGD\\\",\\\"TensorFlowLinearClassifier\\\",\\\"ExtremeRandomTrees\\\",\\\"TabnetClassifier\\\",\\\"AveragedPerceptronClassifier\\\",\\\"LinearSVM\\\",\\\"KNN\\\",\\\"XGBoostClassifier\\\",\\\"RandomForest\\\",\\\"MultinomialNaiveBayes\\\"],\\\"private_models\\\":[],\\\"auto_blacklist\\\":true,\\\"blacklist_samples_reached\\\":false,\\\"exclude_nan_labels\\\":true,\\\"verbosity\\\":20,\\\"_debug_log\\\":\\\"azureml_automl.log\\\",\\\"show_warnings\\\":false,\\\"model_explainability\\\":true,\\\"service_url\\\":null,\\\"sdk_url\\\":null,\\\"sdk_packages\\\":null,\\\"enable_onnx_compatible_models\\\":false,\\\"enable_split_onnx_featurizer_estimator_models\\\":false,\\\"vm_type\\\":\\\"STANDARD_D2_V2\\\",\\\"telemetry_verbosity\\\":20,\\\"send_telemetry\\\":true,\\\"enable_dnn\\\":false,\\\"scenario\\\":\\\"SDK-1.13.0\\\",\\\"environment_label\\\":null,\\\"save_mlflow\\\":false,\\\"enable_categorical_indicators\\\":false,\\\"force_text_dnn\\\":false,\\\"enable_feature_sweeping\\\":true,\\\"enable_early_stopping\\\":true,\\\"early_stopping_n_iters\\\":10,\\\"arguments\\\":null,\\\"dataset_id\\\":null,\\\"hyperdrive_config\\\":null,\\\"validation_dataset_id\\\":null,\\\"run_source\\\":null,\\\"metrics\\\":null,\\\"enable_metric_confidence\\\":false,\\\"enable_ensembling\\\":true,\\\"enable_stack_ensembling\\\":true,\\\"ensemble_iterations\\\":15,\\\"enable_tf\\\":false,\\\"enable_subsampling\\\":null,\\\"subsample_seed\\\":null,\\\"enable_nimbusml\\\":false,\\\"enable_streaming\\\":false,\\\"force_streaming\\\":false,\\\"track_child_runs\\\":true,\\\"allowed_private_models\\\":[],\\\"label_column_name\\\":\\\"DEATH_EVENT\\\",\\\"weight_column_name\\\":null,\\\"cv_split_column_names\\\":null,\\\"enable_local_managed\\\":false,\\\"_local_managed_run_id\\\":null,\\\"cost_mode\\\":1,\\\"lag_length\\\":0,\\\"metric_operation\\\":\\\"maximize\\\",\\\"preprocess\\\":true}\", \"DataPrepJsonString\": \"{\\\\\\\"training_data\\\\\\\": {\\\\\\\"datasetId\\\\\\\": \\\\\\\"056fa440-b8ce-46dc-9599-e7fac0b91dd0\\\\\\\"}, \\\\\\\"datasets\\\\\\\": 0}\", \"EnableSubsampling\": null, \"runTemplate\": \"AutoML\", \"azureml.runsource\": \"automl\", \"display_task_type\": \"classification\", \"dependencies_versions\": \"{\\\"azureml-widgets\\\": \\\"1.38.0\\\", \\\"azureml-train\\\": \\\"1.38.0\\\", \\\"azureml-train-restclients-hyperdrive\\\": \\\"1.38.0\\\", \\\"azureml-train-core\\\": \\\"1.38.0\\\", \\\"azureml-train-automl\\\": \\\"1.38.0\\\", \\\"azureml-train-automl-runtime\\\": \\\"1.38.0\\\", \\\"azureml-train-automl-client\\\": \\\"1.38.0\\\", \\\"azureml-tensorboard\\\": \\\"1.38.0\\\", \\\"azureml-telemetry\\\": \\\"1.38.0\\\", \\\"azureml-sdk\\\": \\\"1.38.0\\\", \\\"azureml-responsibleai\\\": \\\"1.38.0\\\", \\\"azureml-pipeline\\\": \\\"1.38.0\\\", \\\"azureml-pipeline-steps\\\": \\\"1.38.0\\\", \\\"azureml-pipeline-core\\\": \\\"1.38.0\\\", \\\"azureml-opendatasets\\\": \\\"1.38.0\\\", \\\"azureml-mlflow\\\": \\\"1.38.0\\\", \\\"azureml-interpret\\\": \\\"1.38.0\\\", \\\"azureml-inference-server-http\\\": \\\"0.4.2\\\", \\\"azureml-explain-model\\\": \\\"1.38.0\\\", \\\"azureml-defaults\\\": \\\"1.38.0\\\", \\\"azureml-dataset-runtime\\\": \\\"1.38.0\\\", \\\"azureml-dataprep\\\": \\\"2.26.0\\\", \\\"azureml-dataprep-rslex\\\": \\\"2.2.0\\\", \\\"azureml-dataprep-native\\\": \\\"38.0.0\\\", \\\"azureml-datadrift\\\": \\\"1.38.0\\\", \\\"azureml-core\\\": \\\"1.38.0\\\", \\\"azureml-contrib-services\\\": \\\"1.38.0\\\", \\\"azureml-contrib-server\\\": \\\"1.38.0\\\", \\\"azureml-contrib-reinforcementlearning\\\": \\\"1.38.0\\\", \\\"azureml-contrib-pipeline-steps\\\": \\\"1.38.0\\\", \\\"azureml-contrib-notebook\\\": \\\"1.38.0\\\", \\\"azureml-contrib-fairness\\\": \\\"1.38.0\\\", \\\"azureml-contrib-dataset\\\": \\\"1.38.0\\\", \\\"azureml-contrib-automl-pipeline-steps\\\": \\\"1.38.0\\\", \\\"azureml-cli-common\\\": \\\"1.38.0\\\", \\\"azureml-automl-runtime\\\": \\\"1.38.0\\\", \\\"azureml-automl-dnn-nlp\\\": \\\"1.38.0\\\", \\\"azureml-automl-core\\\": \\\"1.38.0\\\", \\\"azureml-accel-models\\\": \\\"1.38.0\\\"}\", \"_aml_system_scenario_identification\": \"Remote.Parent\", \"ClientType\": \"SDK\", \"environment_cpu_name\": \"AzureML-AutoML\", \"environment_cpu_label\": \"py36\", \"environment_gpu_name\": \"AzureML-AutoML-GPU\", \"environment_gpu_label\": \"py36\", \"root_attribution\": \"automl\", \"attribution\": \"AutoML\", \"Orchestrator\": \"AutoML\", \"CancelUri\": \"https://southcentralus.api.azureml.ms/jasmine/v1.0/subscriptions/aa7cf8e8-d23f-4bce-a7b9-1f0b4e0ac8ee/resourceGroups/aml-quickstarts-187626/providers/Microsoft.MachineLearningServices/workspaces/quick-starts-ws-187626/experimentids/5b34dd49-cef8-430d-ae8e-f975a4a0d258/cancel/AutoML_a26b767d-03bd-4304-b1b8-e5edd42d6ab9\", \"azureml.git.repository_uri\": \"https://github.com/ccollalm/nd00333-capstone\", \"mlflow.source.git.repoURL\": \"https://github.com/ccollalm/nd00333-capstone\", \"azureml.git.branch\": \"master\", \"mlflow.source.git.branch\": \"master\", \"azureml.git.commit\": \"27b7e56e8c5a644b853c732cabe09710c4031e7c\", \"mlflow.source.git.commit\": \"27b7e56e8c5a644b853c732cabe09710c4031e7c\", \"azureml.git.dirty\": \"False\", \"ClientSdkVersion\": \"1.38.0\", \"snapshotId\": \"00000000-0000-0000-0000-000000000000\", \"SetupRunId\": \"AutoML_a26b767d-03bd-4304-b1b8-e5edd42d6ab9_setup\", \"SetupRunContainerId\": \"dcid.AutoML_a26b767d-03bd-4304-b1b8-e5edd42d6ab9_setup\", \"FeaturizationRunJsonPath\": \"featurizer_container.json\", \"FeaturizationRunId\": \"AutoML_a26b767d-03bd-4304-b1b8-e5edd42d6ab9_featurize\", \"ProblemInfoJsonString\": \"{\\\"dataset_num_categorical\\\": 0, \\\"is_sparse\\\": false, \\\"subsampling\\\": false, \\\"has_extra_col\\\": true, \\\"dataset_classes\\\": 2, \\\"dataset_features\\\": 12, \\\"dataset_samples\\\": 299, \\\"single_frequency_class_detected\\\": false}\"}, \"tags\": {\"model_explain_run\": \"best_run\", \"_aml_system_azureml.automlComponent\": \"AutoML\", \"pipeline_id\": \"<5dfac790c5c209f98a1da2dc1c7fb76f0397324f>;<e92a63ad06df7b68a48ce96c06fad3fbf2a25ce2>;<039a99c3d5147edeb525249e2660628be3e8b83f>;<c7af0367625be6ac5c2fecbfc72ed444cb7a2111>;<a18bd1af1629e8f96b25a32ac94e62b3bd9a9605>;<5bc24cef89e67ee668d55e59548e1032cfbc7f0f>;<51ae05309834b29f71340af1008fc94fbd8213f4>;<a3dadd95854bf6116ab454844302b51d417d78b7>;<516a24fb1445632ecf04366c17b960ce157878b3>;<ce2643edf3d450b10c86c7d034a9bc952dc282d3>;<088b94df63b852cc8cba96bb2fa191ce8d1ef2e5>;<1dfdf370ba770047b14bfa59c40920815defcdab>;<294650ec23bc3d067a4972de7ceb12f6e97260fa>;<4f207270c6817858b81b8050f1efa1d0053db52e>;<634afb4b36be9286ca21289f56b5f7cdf1c72fa9>;<7ea0a64582be36507254a026ac98e9a5a49e1f34>;<b983b703e4d6dbffd4a815a4d1c2ed94225c5027>;<681a59302459aec2cc115ddbc14e1d28f4b3b8df>;<6f4a466f84f725a47910c1dff062a1bb46df2a21>;<dea7fdbaedc77258dbfe31dbfed41e768ca38939>;<c74787cd2f0507b852a1ac70d504d83ac9bdec83>;<9610149fbcf43017aa810a290e9c04cbe6fa8684>;<a72eb56f3d4aadb7b7f0149ba6e5f05657a95ca1>;<1e38ae92baee19b18f211a8b14c16015d5ee3dc3>;<a7434e890cabef86b0ce4ae71fb633e1e92b854d>;<934fbda25f87f4703ab02c0796a38b132022d111>;<5bcf69d12307c5f0246b0d33ab19666443595ac9>;<c5b7ff96dae6e4fd54a48879db864ad94b669298>;<de5498303022d1619f483f3eee6fec99beb02365>;<18df6f7c8ab9671ee27b80e6edc9861a31350e57>;<a5b3b0d40933f24e375d78d47b32346a2e57b8c2>;<9934b96a8517b85cc7738ce046bc68a8b57d1779>;<bad2d5f03ef56bd2e946f6b9fba2f8b7a90c9fb3>;<aa9bb1be0fdd90d85173de50544a9c238007a00e>;<b19eeb61727e9c4fbb5aa45fb6e9fe3fab5b1f04>;<ec8d1b872cd636eff0a979dc8fd7b1035d2bec07>;\", \"score\": \"<0.8831034719814468>;<0.8332658768957968>;<0.9028613008971705>;<0.8847369443591411>;<0.5058572603005097>;<0.8985186827961427>;<0.8857265679570027>;<0.8672331527930499>;<0.8638387105774978>;<0.9031929804749028>;<0.7996258755419511>;<0.8939520220456719>;<0.8845017973402985>;<0.8992620551158309>;<0.7464011599733854>;<0.8996378547103376>;<0.8933818261342863>;<0.8622732591524926>;<0.8853547098147212>;<0.87287301259847>;<0.8960912485429647>;<0.8982296342250005>;<0.910963571216689>;<0.867422648766184>;<0.9144947104256029>;<0.8714109459529368>;<0.9038190320993523>;<0.883619489985394>;<0.8606093558445961>;<0.8997966044337898>;<0.7768225431139333>;<0.885666114616801>;<0.8800001222588751>;<0.8687303076807081>;<0.9021568134213445>;<0.7498230626384802>;\", \"predicted_cost\": \"<0>;<0.5>;<0.5>;<0>;<0.5>;<0.5>;<0.5>;<0.5>;<0.5>;<0.5>;<0.5>;<0.5>;<0.5>;<0.5>;<0.5>;<0.5>;<0.5>;<0.5>;<0.5>;<0.5>;<0.024160393766149268>;<0.06247237368564297>;<0.012995961285030347>;<0.15695766968920943>;<0.451172939724565>;<0.007552499049708002>;<0.04185350145908754>;<0.17973265453639947>;<0.15020889467299361>;<0.027840405720419428>;<0.03911139975618355>;<0.07679310069230529>;<0.004247844689113945>;<0.025090030786621774>;<0.02981309870004101>;<0.08041892068401775>;\", \"fit_time\": \"<0.0203787>;<0.0074685>;<0.012068900000000002>;<0.0231226>;<0.0054542>;<0.083712>;<0.014121600000000002>;<0.0085347>;<0.0100584>;<0.0175288>;<0.026156400000000003>;<0.23622300000000002>;<0.007713599999999999>;<0.1232769>;<0.0036964000000000003>;<0.0467039>;<0.0325523>;<0.006665900000000001>;<0.0110791>;<0.6397485>;<0.014946199999999998>;<0.0114065>;<0.20194140000000002>;<0.029905899999999996>;<0.2727449>;<0.0158755>;<0.057193799999999996>;<0.5918213>;<0.44185800000000003>;<0.18761160000000002>;<0.11820869999999999>;<0.11691760000000002>;<0.0079336>;<0.024304100000000002>;<0.0313515>;<0.047133999999999995>;\", \"training_percent\": \"<100>;<100>;<100>;<100>;<100>;<100>;<100>;<100>;<100>;<100>;<100>;<100>;<100>;<100>;<100>;<100>;<100>;<100>;<100>;<100>;<100>;<100>;<100>;<100>;<100>;<100>;<100>;<100>;<100>;<100>;<100>;<100>;<100>;<100>;<100>;<100>;\", \"iteration\": \"<0>;<8>;<4>;<1>;<5>;<9>;<2>;<6>;<10>;<3>;<11>;<7>;<12>;<16>;<13>;<17>;<14>;<15>;<18>;<19>;<20>;<22>;<21>;<23>;<25>;<26>;<24>;<28>;<27>;<29>;<30>;<31>;<33>;<32>;<34>;<35>;\", \"run_preprocessor\": \"<MaxAbsScaler>;<RobustScaler>;<StandardScalerWrapper>;<MaxAbsScaler>;<StandardScalerWrapper>;<MinMaxScaler>;<MaxAbsScaler>;<SparseNormalizer>;<StandardScalerWrapper>;<MaxAbsScaler>;<StandardScalerWrapper>;<SparseNormalizer>;<StandardScalerWrapper>;<MinMaxScaler>;<SparseNormalizer>;<MinMaxScaler>;<RobustScaler>;<SparseNormalizer>;<SparseNormalizer>;<MaxAbsScaler>;<StandardScalerWrapper>;<MaxAbsScaler>;<StandardScalerWrapper>;<MaxAbsScaler>;<StandardScalerWrapper>;<StandardScalerWrapper>;<MaxAbsScaler>;<MaxAbsScaler>;<StandardScalerWrapper>;<MinMaxScaler>;<RobustScaler>;<MaxAbsScaler>;<StandardScalerWrapper>;<StandardScalerWrapper>;<MinMaxScaler>;<RobustScaler>;\", \"run_algorithm\": \"<LightGBM>;<KNN>;<LightGBM>;<XGBoostClassifier>;<KNN>;<RandomForest>;<ExtremeRandomTrees>;<XGBoostClassifier>;<LogisticRegression>;<RandomForest>;<SVM>;<RandomForest>;<XGBoostClassifier>;<ExtremeRandomTrees>;<KNN>;<ExtremeRandomTrees>;<ExtremeRandomTrees>;<XGBoostClassifier>;<LightGBM>;<ExtremeRandomTrees>;<XGBoostClassifier>;<LightGBM>;<RandomForest>;<LogisticRegression>;<ExtremeRandomTrees>;<LogisticRegression>;<RandomForest>;<ExtremeRandomTrees>;<ExtremeRandomTrees>;<RandomForest>;<ExtremeRandomTrees>;<RandomForest>;<LightGBM>;<SVM>;<RandomForest>;<ExtremeRandomTrees>;\", \"dynamic_whitelisting_iterations\": \"<24>;<30>;<35>;\"}, \"end_time_utc\": null, \"status\": \"Running\", \"log_files\": {}, \"log_groups\": [], \"run_duration\": \"0:08:38\", \"run_number\": \"1645962258\", \"run_queued_details\": {\"status\": \"Running\", \"details\": null}}, \"child_runs\": [{\"run_id\": \"AutoML_a26b767d-03bd-4304-b1b8-e5edd42d6ab9_setup\", \"run_number\": 1645962270, \"metric\": null, \"status\": \"Completed\", \"run_type\": \"azureml.scriptrun\", \"training_percent\": null, \"start_time\": \"2022-02-27T11:45:06.374683Z\", \"end_time\": \"2022-02-27T11:45:10.070557Z\", \"created_time\": \"2022-02-27T11:44:30.644235Z\", \"created_time_dt\": \"2022-02-27T11:44:30.644235Z\", \"duration\": \"0:00:39\", \"iteration\": null, \"goal\": null, \"run_name\": \"Completed\", \"run_properties\": null}, {\"run_id\": \"AutoML_a26b767d-03bd-4304-b1b8-e5edd42d6ab9_featurize\", \"run_number\": 1645962310, \"metric\": null, \"status\": \"Completed\", \"run_type\": \"automl.featurization\", \"training_percent\": null, \"start_time\": \"2022-02-27T11:45:10.762596Z\", \"end_time\": \"2022-02-27T11:46:02.243021Z\", \"created_time\": \"2022-02-27T11:45:10.429461Z\", \"created_time_dt\": \"2022-02-27T11:45:10.429461Z\", \"duration\": \"0:00:51\", \"iteration\": null, \"goal\": null, \"run_name\": \"Completed\", \"run_properties\": null}, {\"run_id\": \"AutoML_a26b767d-03bd-4304-b1b8-e5edd42d6ab9_0\", \"run_number\": 1645962368, \"metric\": null, \"status\": \"Completed\", \"run_type\": null, \"training_percent\": \"100\", \"start_time\": \"2022-02-27T11:46:32.622012Z\", \"end_time\": \"2022-02-27T11:46:40.95741Z\", \"created_time\": \"2022-02-27T11:46:08.87786Z\", \"created_time_dt\": \"2022-02-27T11:46:08.87786Z\", \"duration\": \"0:00:32\", \"iteration\": \"0\", \"goal\": \"AUC_weighted_max\", \"run_name\": \"MaxAbsScaler, LightGBM\", \"run_properties\": \"copy=True\", \"primary_metric\": 0.88310347, \"best_metric\": 0.88310347}, {\"run_id\": \"AutoML_a26b767d-03bd-4304-b1b8-e5edd42d6ab9_1\", \"run_number\": 1645962369, \"metric\": null, \"status\": \"Completed\", \"run_type\": null, \"training_percent\": \"100\", \"start_time\": \"2022-02-27T11:46:41.143246Z\", \"end_time\": \"2022-02-27T11:46:50.132795Z\", \"created_time\": \"2022-02-27T11:46:09.341872Z\", \"created_time_dt\": \"2022-02-27T11:46:09.341872Z\", \"duration\": \"0:00:40\", \"iteration\": \"1\", \"goal\": \"AUC_weighted_max\", \"run_name\": \"MaxAbsScaler, XGBoostClassifier\", \"run_properties\": \"copy=True\", \"primary_metric\": 0.88473694, \"best_metric\": 0.88473694}, {\"run_id\": \"AutoML_a26b767d-03bd-4304-b1b8-e5edd42d6ab9_4\", \"run_number\": 1645962370, \"metric\": null, \"status\": \"Completed\", \"run_type\": null, \"training_percent\": \"100\", \"start_time\": \"2022-02-27T11:46:35.711136Z\", \"end_time\": \"2022-02-27T11:46:43.104351Z\", \"created_time\": \"2022-02-27T11:46:10.820185Z\", \"created_time_dt\": \"2022-02-27T11:46:10.820185Z\", \"duration\": \"0:00:32\", \"iteration\": \"4\", \"goal\": \"AUC_weighted_max\", \"run_name\": \"StandardScalerWrapper, LightGBM\", \"run_properties\": \"\\n    copy=True,\\n    with_mean=False,\\n    with_std=True\\n\", \"primary_metric\": 0.9028613, \"best_metric\": 0.9028613}, {\"run_id\": \"AutoML_a26b767d-03bd-4304-b1b8-e5edd42d6ab9_5\", \"run_number\": 1645962371, \"metric\": null, \"status\": \"Completed\", \"run_type\": null, \"training_percent\": \"100\", \"start_time\": \"2022-02-27T11:46:43.294902Z\", \"end_time\": \"2022-02-27T11:46:51.696697Z\", \"created_time\": \"2022-02-27T11:46:11.277064Z\", \"created_time_dt\": \"2022-02-27T11:46:11.277064Z\", \"duration\": \"0:00:40\", \"iteration\": \"5\", \"goal\": \"AUC_weighted_max\", \"run_name\": \"StandardScalerWrapper, KNN\", \"run_properties\": \"\\n    copy=True,\\n    with_mean=True,\\n    with_std=False\\n\", \"primary_metric\": 0.50585726, \"best_metric\": 0.9028613}, {\"run_id\": \"AutoML_a26b767d-03bd-4304-b1b8-e5edd42d6ab9_8\", \"run_number\": 1645962372, \"metric\": null, \"status\": \"Completed\", \"run_type\": null, \"training_percent\": \"100\", \"start_time\": \"2022-02-27T11:46:35.137598Z\", \"end_time\": \"2022-02-27T11:46:43.369858Z\", \"created_time\": \"2022-02-27T11:46:12.636164Z\", \"created_time_dt\": \"2022-02-27T11:46:12.636164Z\", \"duration\": \"0:00:30\", \"iteration\": \"8\", \"goal\": \"AUC_weighted_max\", \"run_name\": \"RobustScaler, KNN\", \"run_properties\": \"copy=True, quantile_range=[25, 75], with_centering=False,\\n             with_scaling=True\", \"primary_metric\": 0.83326588, \"best_metric\": 0.9028613}, {\"run_id\": \"AutoML_a26b767d-03bd-4304-b1b8-e5edd42d6ab9_9\", \"run_number\": 1645962373, \"metric\": null, \"status\": \"Completed\", \"run_type\": null, \"training_percent\": \"100\", \"start_time\": \"2022-02-27T11:46:43.591459Z\", \"end_time\": \"2022-02-27T11:46:52.623447Z\", \"created_time\": \"2022-02-27T11:46:13.204298Z\", \"created_time_dt\": \"2022-02-27T11:46:13.204298Z\", \"duration\": \"0:00:39\", \"iteration\": \"9\", \"goal\": \"AUC_weighted_max\", \"run_name\": \"MinMaxScaler, RandomForest\", \"run_properties\": \"copy=True, feature_range=(0, 1\", \"primary_metric\": 0.89851868, \"best_metric\": 0.9028613}, {\"run_id\": \"AutoML_a26b767d-03bd-4304-b1b8-e5edd42d6ab9_11\", \"run_number\": 1645962374, \"metric\": null, \"status\": \"Completed\", \"run_type\": null, \"training_percent\": \"100\", \"start_time\": \"2022-02-27T11:47:01.444699Z\", \"end_time\": \"2022-02-27T11:47:09.80676Z\", \"created_time\": \"2022-02-27T11:46:14.228338Z\", \"created_time_dt\": \"2022-02-27T11:46:14.228338Z\", \"duration\": \"0:00:55\", \"iteration\": \"11\", \"goal\": \"AUC_weighted_max\", \"run_name\": \"StandardScalerWrapper, SVM\", \"run_properties\": \"\\n    copy=True,\\n    with_mean=True,\\n    with_std=True\\n\", \"primary_metric\": 0.79962588, \"best_metric\": 0.9028613}, {\"run_id\": \"AutoML_a26b767d-03bd-4304-b1b8-e5edd42d6ab9_worker_0\", \"run_number\": 1645962375, \"metric\": null, \"status\": \"Completed\", \"run_type\": \"azureml.scriptrun\", \"training_percent\": null, \"start_time\": \"2022-02-27T11:47:07.913948Z\", \"end_time\": \"2022-02-27T11:47:11.46208Z\", \"created_time\": \"2022-02-27T11:46:15.654381Z\", \"created_time_dt\": \"2022-02-27T11:46:15.654381Z\", \"duration\": \"0:00:55\", \"iteration\": null, \"goal\": null, \"run_name\": \"Completed\", \"run_properties\": null}, {\"run_id\": \"AutoML_a26b767d-03bd-4304-b1b8-e5edd42d6ab9_15\", \"run_number\": 1645962376, \"metric\": null, \"status\": \"Completed\", \"run_type\": null, \"training_percent\": \"100\", \"start_time\": \"2022-02-27T11:47:49.289577Z\", \"end_time\": \"2022-02-27T11:47:57.472691Z\", \"created_time\": \"2022-02-27T11:46:16.254816Z\", \"created_time_dt\": \"2022-02-27T11:46:16.254816Z\", \"duration\": \"0:01:41\", \"iteration\": \"15\", \"goal\": \"AUC_weighted_max\", \"run_name\": \"SparseNormalizer, XGBoostClassifier\", \"run_properties\": \"copy=True, norm='max'\", \"primary_metric\": 0.86227326, \"best_metric\": 0.9028613}, {\"run_id\": \"AutoML_a26b767d-03bd-4304-b1b8-e5edd42d6ab9_16\", \"run_number\": 1645962381, \"metric\": null, \"status\": \"Completed\", \"run_type\": null, \"training_percent\": \"100\", \"start_time\": \"2022-02-27T11:47:30.175988Z\", \"end_time\": \"2022-02-27T11:47:40.002888Z\", \"created_time\": \"2022-02-27T11:46:21.764468Z\", \"created_time_dt\": \"2022-02-27T11:46:21.764468Z\", \"duration\": \"0:01:18\", \"iteration\": \"16\", \"goal\": \"AUC_weighted_max\", \"run_name\": \"MinMaxScaler, ExtremeRandomTrees\", \"run_properties\": \"copy=True, feature_range=(0, 1\", \"primary_metric\": 0.89926206, \"best_metric\": 0.9028613}, {\"run_id\": \"AutoML_a26b767d-03bd-4304-b1b8-e5edd42d6ab9_17\", \"run_number\": 1645962382, \"metric\": null, \"status\": \"Completed\", \"run_type\": null, \"training_percent\": \"100\", \"start_time\": \"2022-02-27T11:47:40.196124Z\", \"end_time\": \"2022-02-27T11:47:49.23846Z\", \"created_time\": \"2022-02-27T11:46:22.191996Z\", \"created_time_dt\": \"2022-02-27T11:46:22.191996Z\", \"duration\": \"0:01:27\", \"iteration\": \"17\", \"goal\": \"AUC_weighted_max\", \"run_name\": \"MinMaxScaler, ExtremeRandomTrees\", \"run_properties\": \"copy=True, feature_range=(0, 1\", \"primary_metric\": 0.89963785, \"best_metric\": 0.9028613}, {\"run_id\": \"AutoML_a26b767d-03bd-4304-b1b8-e5edd42d6ab9_19\", \"run_number\": 1645962383, \"metric\": null, \"status\": \"Completed\", \"run_type\": null, \"training_percent\": \"100\", \"start_time\": \"2022-02-27T11:47:57.949019Z\", \"end_time\": \"2022-02-27T11:48:13.9965Z\", \"created_time\": \"2022-02-27T11:46:23.1702Z\", \"created_time_dt\": \"2022-02-27T11:46:23.1702Z\", \"duration\": \"0:01:50\", \"iteration\": \"19\", \"goal\": \"AUC_weighted_max\", \"run_name\": \"MaxAbsScaler, ExtremeRandomTrees\", \"run_properties\": \"copy=True\", \"primary_metric\": 0.87287301, \"best_metric\": 0.9028613}, {\"run_id\": \"AutoML_a26b767d-03bd-4304-b1b8-e5edd42d6ab9_20\", \"run_number\": 1645962472, \"metric\": null, \"status\": \"Completed\", \"run_type\": \"azureml.scriptrun\", \"training_percent\": \"100\", \"start_time\": \"2022-02-27T11:48:19.53712Z\", \"end_time\": \"2022-02-27T11:48:23.249665Z\", \"created_time\": \"2022-02-27T11:47:52.316361Z\", \"created_time_dt\": \"2022-02-27T11:47:52.316361Z\", \"duration\": \"0:00:30\", \"iteration\": \"20\", \"goal\": \"AUC_weighted_max\", \"run_name\": \"StandardScalerWrapper, XGBoostClassifier\", \"run_properties\": \"\\n    copy=True,\\n    with_mean=False,\\n    with_std=False\\n\", \"primary_metric\": 0.89609125, \"best_metric\": 0.9028613}, {\"run_id\": \"AutoML_a26b767d-03bd-4304-b1b8-e5edd42d6ab9_23\", \"run_number\": 1645962496, \"metric\": null, \"status\": \"Completed\", \"run_type\": \"azureml.scriptrun\", \"training_percent\": \"100\", \"start_time\": \"2022-02-27T11:48:48.997715Z\", \"end_time\": \"2022-02-27T11:48:52.751578Z\", \"created_time\": \"2022-02-27T11:48:16.683102Z\", \"created_time_dt\": \"2022-02-27T11:48:16.683102Z\", \"duration\": \"0:00:36\", \"iteration\": \"23\", \"goal\": \"AUC_weighted_max\", \"run_name\": \"MaxAbsScaler, LogisticRegression\", \"run_properties\": \"copy=True\", \"primary_metric\": 0.86742265, \"best_metric\": 0.9028613}, {\"run_id\": \"AutoML_a26b767d-03bd-4304-b1b8-e5edd42d6ab9_25\", \"run_number\": 1645962507, \"metric\": null, \"status\": \"Completed\", \"run_type\": \"azureml.scriptrun\", \"training_percent\": \"100\", \"start_time\": \"2022-02-27T11:49:03.428759Z\", \"end_time\": \"2022-02-27T11:49:07.009488Z\", \"created_time\": \"2022-02-27T11:48:27.81914Z\", \"created_time_dt\": \"2022-02-27T11:48:27.81914Z\", \"duration\": \"0:00:39\", \"iteration\": \"25\", \"goal\": \"AUC_weighted_max\", \"run_name\": \"StandardScalerWrapper, ExtremeRandomTrees\", \"run_properties\": \"\\n    copy=True,\\n    with_mean=False,\\n    with_std=True\\n\", \"primary_metric\": 0.91449471, \"best_metric\": 0.91449471}, {\"run_id\": \"AutoML_a26b767d-03bd-4304-b1b8-e5edd42d6ab9_26\", \"run_number\": 1645962521, \"metric\": null, \"status\": \"Completed\", \"run_type\": \"azureml.scriptrun\", \"training_percent\": \"100\", \"start_time\": \"2022-02-27T11:50:17.726087Z\", \"end_time\": \"2022-02-27T11:50:21.587205Z\", \"created_time\": \"2022-02-27T11:48:41.892064Z\", \"created_time_dt\": \"2022-02-27T11:48:41.892064Z\", \"duration\": \"0:01:39\", \"iteration\": \"26\", \"goal\": \"AUC_weighted_max\", \"run_name\": \"StandardScalerWrapper, LogisticRegression\", \"run_properties\": \"\\n    copy=True,\\n    with_mean=False,\\n    with_std=True\\n\", \"primary_metric\": 0.87141095, \"best_metric\": 0.91449471}, {\"run_id\": \"AutoML_a26b767d-03bd-4304-b1b8-e5edd42d6ab9_27\", \"run_number\": 1645962532, \"metric\": null, \"status\": \"Completed\", \"run_type\": \"azureml.scriptrun\", \"training_percent\": \"100\", \"start_time\": \"2022-02-27T11:50:46.003531Z\", \"end_time\": \"2022-02-27T11:50:49.69598Z\", \"created_time\": \"2022-02-27T11:48:52.799031Z\", \"created_time_dt\": \"2022-02-27T11:48:52.799031Z\", \"duration\": \"0:01:56\", \"iteration\": \"27\", \"goal\": \"AUC_weighted_max\", \"run_name\": \"StandardScalerWrapper, ExtremeRandomTrees\", \"run_properties\": \"\\n    copy=True,\\n    with_mean=True,\\n    with_std=True\\n\", \"primary_metric\": 0.86060936, \"best_metric\": 0.91449471}, {\"run_id\": \"AutoML_a26b767d-03bd-4304-b1b8-e5edd42d6ab9_28\", \"run_number\": 1645962535, \"metric\": null, \"status\": \"Completed\", \"run_type\": \"azureml.scriptrun\", \"training_percent\": \"100\", \"start_time\": \"2022-02-27T11:50:44.493509Z\", \"end_time\": \"2022-02-27T11:50:48.071128Z\", \"created_time\": \"2022-02-27T11:48:55.187415Z\", \"created_time_dt\": \"2022-02-27T11:48:55.187415Z\", \"duration\": \"0:01:52\", \"iteration\": \"28\", \"goal\": \"AUC_weighted_max\", \"run_name\": \"MaxAbsScaler, ExtremeRandomTrees\", \"run_properties\": \"copy=True\", \"primary_metric\": 0.88361949, \"best_metric\": 0.91449471}, {\"run_id\": \"AutoML_a26b767d-03bd-4304-b1b8-e5edd42d6ab9_29\", \"run_number\": 1645962548, \"metric\": null, \"status\": \"Completed\", \"run_type\": \"azureml.scriptrun\", \"training_percent\": \"100\", \"start_time\": \"2022-02-27T11:50:45.676419Z\", \"end_time\": \"2022-02-27T11:50:49.363431Z\", \"created_time\": \"2022-02-27T11:49:08.632751Z\", \"created_time_dt\": \"2022-02-27T11:49:08.632751Z\", \"duration\": \"0:01:40\", \"iteration\": \"29\", \"goal\": \"AUC_weighted_max\", \"run_name\": \"MinMaxScaler, RandomForest\", \"run_properties\": \"copy=True, feature_range=(0, 1\", \"primary_metric\": 0.8997966, \"best_metric\": 0.91449471}, {\"run_id\": \"AutoML_a26b767d-03bd-4304-b1b8-e5edd42d6ab9_30\", \"run_number\": 1645962624, \"metric\": null, \"status\": \"Completed\", \"run_type\": \"azureml.scriptrun\", \"training_percent\": \"100\", \"start_time\": \"2022-02-27T11:50:56.288759Z\", \"end_time\": \"2022-02-27T11:50:59.939334Z\", \"created_time\": \"2022-02-27T11:50:24.536762Z\", \"created_time_dt\": \"2022-02-27T11:50:24.536762Z\", \"duration\": \"0:00:35\", \"iteration\": \"30\", \"goal\": \"AUC_weighted_max\", \"run_name\": \"RobustScaler, ExtremeRandomTrees\", \"run_properties\": \"copy=True, quantile_range=[25, 75], with_centering=False,\\n             with_scaling=True\", \"primary_metric\": 0.77682254, \"best_metric\": 0.91449471}, {\"run_id\": \"AutoML_a26b767d-03bd-4304-b1b8-e5edd42d6ab9_31\", \"run_number\": 1645962627, \"metric\": null, \"status\": \"Completed\", \"run_type\": \"azureml.scriptrun\", \"training_percent\": \"100\", \"start_time\": \"2022-02-27T11:52:20.972596Z\", \"end_time\": \"2022-02-27T11:52:24.625556Z\", \"created_time\": \"2022-02-27T11:50:27.655441Z\", \"created_time_dt\": \"2022-02-27T11:50:27.655441Z\", \"duration\": \"0:01:56\", \"iteration\": \"31\", \"goal\": \"AUC_weighted_max\", \"run_name\": \"MaxAbsScaler, RandomForest\", \"run_properties\": \"copy=True\", \"primary_metric\": 0.88566611, \"best_metric\": 0.91449471}, {\"run_id\": \"AutoML_a26b767d-03bd-4304-b1b8-e5edd42d6ab9_32\", \"run_number\": 1645962649, \"metric\": null, \"status\": \"Completed\", \"run_type\": \"azureml.scriptrun\", \"training_percent\": \"100\", \"start_time\": \"2022-02-27T11:52:42.103155Z\", \"end_time\": \"2022-02-27T11:52:45.762999Z\", \"created_time\": \"2022-02-27T11:50:49.905788Z\", \"created_time_dt\": \"2022-02-27T11:50:49.905788Z\", \"duration\": \"0:01:55\", \"iteration\": \"32\", \"goal\": \"AUC_weighted_max\", \"run_name\": \"StandardScalerWrapper, SVM\", \"run_properties\": \"\\n    copy=True,\\n    with_mean=False,\\n    with_std=True\\n\", \"primary_metric\": 0.86873031, \"best_metric\": 0.91449471}, {\"run_id\": \"AutoML_a26b767d-03bd-4304-b1b8-e5edd42d6ab9_33\", \"run_number\": 1645962652, \"metric\": null, \"status\": \"Completed\", \"run_type\": \"azureml.scriptrun\", \"training_percent\": \"100\", \"start_time\": \"2022-02-27T11:52:39.168317Z\", \"end_time\": \"2022-02-27T11:52:42.693788Z\", \"created_time\": \"2022-02-27T11:50:52.568447Z\", \"created_time_dt\": \"2022-02-27T11:50:52.568447Z\", \"duration\": \"0:01:50\", \"iteration\": \"33\", \"goal\": \"AUC_weighted_max\", \"run_name\": \"StandardScalerWrapper, LightGBM\", \"run_properties\": \"\\n    copy=True,\\n    with_mean=True,\\n    with_std=False\\n\", \"primary_metric\": 0.88000012, \"best_metric\": 0.91449471}, {\"run_id\": \"AutoML_a26b767d-03bd-4304-b1b8-e5edd42d6ab9_35\", \"run_number\": 1645962663, \"metric\": null, \"status\": \"Completed\", \"run_type\": \"azureml.scriptrun\", \"training_percent\": \"100\", \"start_time\": \"2022-02-27T11:52:49.790347Z\", \"end_time\": \"2022-02-27T11:52:53.414464Z\", \"created_time\": \"2022-02-27T11:51:03.103129Z\", \"created_time_dt\": \"2022-02-27T11:51:03.103129Z\", \"duration\": \"0:01:50\", \"iteration\": \"35\", \"goal\": \"AUC_weighted_max\", \"run_name\": \"RobustScaler, ExtremeRandomTrees\", \"run_properties\": \"copy=True, quantile_range=[10, 90], with_centering=True,\\n             with_scaling=True\", \"primary_metric\": 0.74982306, \"best_metric\": 0.91449471}, {\"run_id\": \"AutoML_a26b767d-03bd-4304-b1b8-e5edd42d6ab9_36\", \"run_number\": 1645962746, \"metric\": null, \"status\": \"Finalizing\", \"run_type\": \"azureml.scriptrun\", \"training_percent\": \"100\", \"start_time\": \"2022-02-27T11:52:57.313486Z\", \"end_time\": \"\", \"created_time\": \"2022-02-27T11:52:26.341164Z\", \"created_time_dt\": \"2022-02-27T11:52:26.341164Z\", \"duration\": \"0:00:31\", \"iteration\": \"36\", \"goal\": \"AUC_weighted_max\", \"run_name\": \"StandardScalerWrapper, XGBoostClassifier\", \"run_properties\": \"\\n    copy=True,\\n    with_mean=False,\\n    with_std=False\\n\", \"primary_metric\": 0.90869393, \"best_metric\": 0.91449471}, {\"run_id\": \"AutoML_a26b767d-03bd-4304-b1b8-e5edd42d6ab9_37\", \"run_number\": 1645962764, \"metric\": null, \"status\": \"Queued\", \"run_type\": \"azureml.scriptrun\", \"training_percent\": \"100\", \"start_time\": \"\", \"end_time\": \"\", \"created_time\": \"2022-02-27T11:52:44.785547Z\", \"created_time_dt\": \"2022-02-27T11:52:44.785547Z\", \"duration\": \"0:00:12\", \"iteration\": \"37\", \"goal\": null, \"run_name\": \"Queued\", \"run_properties\": null}, {\"run_id\": \"AutoML_a26b767d-03bd-4304-b1b8-e5edd42d6ab9_38\", \"run_number\": 1645962767, \"metric\": null, \"status\": \"Queued\", \"run_type\": \"azureml.scriptrun\", \"training_percent\": \"100\", \"start_time\": \"\", \"end_time\": \"\", \"created_time\": \"2022-02-27T11:52:47.5266Z\", \"created_time_dt\": \"2022-02-27T11:52:47.5266Z\", \"duration\": \"0:00:10\", \"iteration\": \"38\", \"goal\": null, \"run_name\": \"Queued\", \"run_properties\": null}, {\"run_id\": \"AutoML_a26b767d-03bd-4304-b1b8-e5edd42d6ab9_39\", \"run_number\": 1645962770, \"metric\": null, \"status\": \"Queued\", \"run_type\": \"azureml.scriptrun\", \"training_percent\": \"100\", \"start_time\": \"\", \"end_time\": \"\", \"created_time\": \"2022-02-27T11:52:50.25346Z\", \"created_time_dt\": \"2022-02-27T11:52:50.25346Z\", \"duration\": \"0:00:07\", \"iteration\": \"39\", \"goal\": null, \"run_name\": \"Queued\", \"run_properties\": null}], \"children_metrics\": {\"categories\": [0], \"series\": {\"f1_score_macro\": [{\"categories\": [\"0\", \"1\", \"4\", \"5\", \"8\", \"9\", \"11\", \"15\", \"16\", \"17\", \"19\", \"20\", \"23\", \"25\", \"26\", \"27\", \"28\", \"29\", \"30\", \"31\", \"32\", \"33\", \"35\", \"36\"], \"mode\": \"markers\", \"name\": \"f1_score_macro\", \"stepped\": false, \"type\": \"scatter\", \"data\": [0.8043314151248963, 0.8078501228997539, 0.8303557632038444, 0.5099311378159193, 0.6003405547539441, 0.8072531995482046, 0.6657740487441369, 0.7608691587822023, 0.8146147705163542, 0.8006933301539496, 0.8134525749304953, 0.822815722901729, 0.7627173409308519, 0.8055721424095941, 0.7886114007355267, 0.8002188749707072, 0.7635205792628017, 0.7955927777955557, 0.4024893878511494, 0.7730870660953701, 0.8015774167353115, 0.6101044992343148, 0.4024893878511494, 0.8213053999622515]}, {\"categories\": [\"0\", \"1\", \"4\", \"5\", \"8\", \"9\", \"11\", \"15\", \"16\", \"17\", \"19\", \"20\", \"23\", \"25\", \"26\", \"27\", \"28\", \"29\", \"30\", \"31\", \"32\", \"33\", \"35\", \"36\"], \"mode\": \"lines\", \"name\": \"f1_score_macro_max\", \"stepped\": true, \"type\": \"scatter\", \"data\": [0.8043314151248963, 0.8078501228997539, 0.8303557632038444, 0.8303557632038444, 0.8303557632038444, 0.8303557632038444, 0.8303557632038444, 0.8303557632038444, 0.8303557632038444, 0.8303557632038444, 0.8303557632038444, 0.8303557632038444, 0.8303557632038444, 0.8303557632038444, 0.8303557632038444, 0.8303557632038444, 0.8303557632038444, 0.8303557632038444, 0.8303557632038444, 0.8303557632038444, 0.8303557632038444, 0.8303557632038444, 0.8303557632038444, 0.8303557632038444]}], \"AUC_weighted\": [{\"categories\": [\"0\", \"1\", \"4\", \"5\", \"8\", \"9\", \"11\", \"15\", \"16\", \"17\", \"19\", \"20\", \"23\", \"25\", \"26\", \"27\", \"28\", \"29\", \"30\", \"31\", \"32\", \"33\", \"35\", \"36\"], \"mode\": \"markers\", \"name\": \"AUC_weighted\", \"stepped\": false, \"type\": \"scatter\", \"data\": [0.8831034719814468, 0.8847369443591411, 0.9028613008971705, 0.5058572603005097, 0.8332658768957968, 0.8985186827961427, 0.7996258755419511, 0.8622732591524926, 0.8992620551158309, 0.8996378547103376, 0.87287301259847, 0.8960912485429647, 0.867422648766184, 0.9144947104256029, 0.8714109459529368, 0.8606093558445961, 0.883619489985394, 0.8997966044337898, 0.7768225431139333, 0.885666114616801, 0.8687303076807081, 0.8800001222588751, 0.7498230626384802, 0.9086939266534804]}, {\"categories\": [\"0\", \"1\", \"4\", \"5\", \"8\", \"9\", \"11\", \"15\", \"16\", \"17\", \"19\", \"20\", \"23\", \"25\", \"26\", \"27\", \"28\", \"29\", \"30\", \"31\", \"32\", \"33\", \"35\", \"36\"], \"mode\": \"lines\", \"name\": \"AUC_weighted_max\", \"stepped\": true, \"type\": \"scatter\", \"data\": [0.8831034719814468, 0.8847369443591411, 0.9028613008971705, 0.9028613008971705, 0.9028613008971705, 0.9028613008971705, 0.9028613008971705, 0.9028613008971705, 0.9028613008971705, 0.9028613008971705, 0.9028613008971705, 0.9028613008971705, 0.9028613008971705, 0.9144947104256029, 0.9144947104256029, 0.9144947104256029, 0.9144947104256029, 0.9144947104256029, 0.9144947104256029, 0.9144947104256029, 0.9144947104256029, 0.9144947104256029, 0.9144947104256029, 0.9144947104256029]}], \"weighted_accuracy\": [{\"categories\": [\"0\", \"1\", \"4\", \"5\", \"8\", \"9\", \"11\", \"15\", \"16\", \"17\", \"19\", \"20\", \"23\", \"25\", \"26\", \"27\", \"28\", \"29\", \"30\", \"31\", \"32\", \"33\", \"35\", \"36\"], \"mode\": \"markers\", \"name\": \"weighted_accuracy\", \"stepped\": false, \"type\": \"scatter\", \"data\": [0.8541321922200625, 0.8502962163535492, 0.8774028225281928, 0.7077252561233643, 0.8173644876068957, 0.85503508312436, 0.8013242453755675, 0.82296536130966, 0.8782608417671254, 0.8495327075178946, 0.8553123176292432, 0.8769593319167646, 0.794035685460014, 0.8473595702047072, 0.8490600241366314, 0.8299400689381466, 0.8717904702125896, 0.8316003094304723, 0.7931711479234276, 0.8688329417920999, 0.8574766218400015, 0.835266624070346, 0.7931711479234276, 0.871289775294275]}, {\"categories\": [\"0\", \"1\", \"4\", \"5\", \"8\", \"9\", \"11\", \"15\", \"16\", \"17\", \"19\", \"20\", \"23\", \"25\", \"26\", \"27\", \"28\", \"29\", \"30\", \"31\", \"32\", \"33\", \"35\", \"36\"], \"mode\": \"lines\", \"name\": \"weighted_accuracy_max\", \"stepped\": true, \"type\": \"scatter\", \"data\": [0.8541321922200625, 0.8541321922200625, 0.8774028225281928, 0.8774028225281928, 0.8774028225281928, 0.8774028225281928, 0.8774028225281928, 0.8774028225281928, 0.8782608417671254, 0.8782608417671254, 0.8782608417671254, 0.8782608417671254, 0.8782608417671254, 0.8782608417671254, 0.8782608417671254, 0.8782608417671254, 0.8782608417671254, 0.8782608417671254, 0.8782608417671254, 0.8782608417671254, 0.8782608417671254, 0.8782608417671254, 0.8782608417671254, 0.8782608417671254]}], \"recall_score_micro\": [{\"categories\": [\"0\", \"1\", \"4\", \"5\", \"8\", \"9\", \"11\", \"15\", \"16\", \"17\", \"19\", \"20\", \"23\", \"25\", \"26\", \"27\", \"28\", \"29\", \"30\", \"31\", \"32\", \"33\", \"35\", \"36\"], \"mode\": \"markers\", \"name\": \"recall_score_micro\", \"stepped\": false, \"type\": \"scatter\", \"data\": [0.8359770114942527, 0.8358620689655172, 0.8593103448275862, 0.6424137931034483, 0.7393103448275863, 0.8394252873563218, 0.749080459770115, 0.8026436781609195, 0.8495402298850576, 0.8325287356321839, 0.8426436781609196, 0.8560919540229885, 0.792528735632184, 0.8358620689655172, 0.825977011494253, 0.8257471264367815, 0.8227586206896552, 0.825632183908046, 0.6791954022988507, 0.8260919540229885, 0.8358620689655172, 0.7526436781609196, 0.6791954022988507, 0.8526436781609196]}, {\"categories\": [\"0\", \"1\", \"4\", \"5\", \"8\", \"9\", \"11\", \"15\", \"16\", \"17\", \"19\", \"20\", \"23\", \"25\", \"26\", \"27\", \"28\", \"29\", \"30\", \"31\", \"32\", \"33\", \"35\", \"36\"], \"mode\": \"lines\", \"name\": \"recall_score_micro_max\", \"stepped\": true, \"type\": \"scatter\", \"data\": [0.8359770114942527, 0.8359770114942527, 0.8593103448275862, 0.8593103448275862, 0.8593103448275862, 0.8593103448275862, 0.8593103448275862, 0.8593103448275862, 0.8593103448275862, 0.8593103448275862, 0.8593103448275862, 0.8593103448275862, 0.8593103448275862, 0.8593103448275862, 0.8593103448275862, 0.8593103448275862, 0.8593103448275862, 0.8593103448275862, 0.8593103448275862, 0.8593103448275862, 0.8593103448275862, 0.8593103448275862, 0.8593103448275862, 0.8593103448275862]}], \"f1_score_weighted\": [{\"categories\": [\"0\", \"1\", \"4\", \"5\", \"8\", \"9\", \"11\", \"15\", \"16\", \"17\", \"19\", \"20\", \"23\", \"25\", \"26\", \"27\", \"28\", \"29\", \"30\", \"31\", \"32\", \"33\", \"35\", \"36\"], \"mode\": \"markers\", \"name\": \"f1_score_weighted\", \"stepped\": false, \"type\": \"scatter\", \"data\": [0.8333388901455894, 0.8342588560383983, 0.8553484665222131, 0.5969597383330986, 0.6868595770797061, 0.837833460398954, 0.7235839842809408, 0.8004748418046018, 0.843371463603248, 0.8316742951060233, 0.842525813521355, 0.8528962935432418, 0.7966623210665318, 0.8359453919059945, 0.8232665117523912, 0.8290661019849157, 0.8064438361055931, 0.8294308528589264, 0.5534120288954022, 0.813199071938965, 0.8316612163799096, 0.6952315653853497, 0.5534120288954022, 0.8491634895430946]}, {\"categories\": [\"0\", \"1\", \"4\", \"5\", \"8\", \"9\", \"11\", \"15\", \"16\", \"17\", \"19\", \"20\", \"23\", \"25\", \"26\", \"27\", \"28\", \"29\", \"30\", \"31\", \"32\", \"33\", \"35\", \"36\"], \"mode\": \"lines\", \"name\": \"f1_score_weighted_max\", \"stepped\": true, \"type\": \"scatter\", \"data\": [0.8333388901455894, 0.8342588560383983, 0.8553484665222131, 0.8553484665222131, 0.8553484665222131, 0.8553484665222131, 0.8553484665222131, 0.8553484665222131, 0.8553484665222131, 0.8553484665222131, 0.8553484665222131, 0.8553484665222131, 0.8553484665222131, 0.8553484665222131, 0.8553484665222131, 0.8553484665222131, 0.8553484665222131, 0.8553484665222131, 0.8553484665222131, 0.8553484665222131, 0.8553484665222131, 0.8553484665222131, 0.8553484665222131, 0.8553484665222131]}], \"precision_score_weighted\": [{\"categories\": [\"0\", \"1\", \"4\", \"5\", \"8\", \"9\", \"11\", \"15\", \"16\", \"17\", \"19\", \"20\", \"23\", \"25\", \"26\", \"27\", \"28\", \"29\", \"30\", \"31\", \"32\", \"33\", \"35\", \"36\"], \"mode\": \"markers\", \"name\": \"precision_score_weighted\", \"stepped\": false, \"type\": \"scatter\", \"data\": [0.8443308716969533, 0.8506678986628277, 0.872052793247784, 0.6029834921330174, 0.7619747750971889, 0.8542990581231503, 0.7693821828189396, 0.8181986486915273, 0.8653119494485075, 0.8466380886036058, 0.8541302230805308, 0.8642312691252855, 0.8303048768950072, 0.8518427482544899, 0.8423579235245672, 0.8463255847614499, 0.8423495602320938, 0.8447661154802717, 0.47055053507728895, 0.8478057571234732, 0.8497953433997287, 0.8214693191865606, 0.47055053507728895, 0.8707126358537902]}, {\"categories\": [\"0\", \"1\", \"4\", \"5\", \"8\", \"9\", \"11\", \"15\", \"16\", \"17\", \"19\", \"20\", \"23\", \"25\", \"26\", \"27\", \"28\", \"29\", \"30\", \"31\", \"32\", \"33\", \"35\", \"36\"], \"mode\": \"lines\", \"name\": \"precision_score_weighted_max\", \"stepped\": true, \"type\": \"scatter\", \"data\": [0.8443308716969533, 0.8506678986628277, 0.872052793247784, 0.872052793247784, 0.872052793247784, 0.872052793247784, 0.872052793247784, 0.872052793247784, 0.872052793247784, 0.872052793247784, 0.872052793247784, 0.872052793247784, 0.872052793247784, 0.872052793247784, 0.872052793247784, 0.872052793247784, 0.872052793247784, 0.872052793247784, 0.872052793247784, 0.872052793247784, 0.872052793247784, 0.872052793247784, 0.872052793247784, 0.872052793247784]}], \"f1_score_micro\": [{\"categories\": [\"0\", \"1\", \"4\", \"5\", \"8\", \"9\", \"11\", \"15\", \"16\", \"17\", \"19\", \"20\", \"23\", \"25\", \"26\", \"27\", \"28\", \"29\", \"30\", \"31\", \"32\", \"33\", \"35\", \"36\"], \"mode\": \"markers\", \"name\": \"f1_score_micro\", \"stepped\": false, \"type\": \"scatter\", \"data\": [0.8359770114942527, 0.8358620689655172, 0.8593103448275862, 0.6424137931034484, 0.7393103448275863, 0.8394252873563218, 0.749080459770115, 0.8026436781609195, 0.8495402298850576, 0.8325287356321839, 0.8426436781609196, 0.8560919540229885, 0.792528735632184, 0.8358620689655172, 0.825977011494253, 0.8257471264367815, 0.8227586206896552, 0.825632183908046, 0.6791954022988507, 0.8260919540229885, 0.8358620689655172, 0.7526436781609196, 0.6791954022988507, 0.8526436781609196]}, {\"categories\": [\"0\", \"1\", \"4\", \"5\", \"8\", \"9\", \"11\", \"15\", \"16\", \"17\", \"19\", \"20\", \"23\", \"25\", \"26\", \"27\", \"28\", \"29\", \"30\", \"31\", \"32\", \"33\", \"35\", \"36\"], \"mode\": \"lines\", \"name\": \"f1_score_micro_max\", \"stepped\": true, \"type\": \"scatter\", \"data\": [0.8359770114942527, 0.8359770114942527, 0.8593103448275862, 0.8593103448275862, 0.8593103448275862, 0.8593103448275862, 0.8593103448275862, 0.8593103448275862, 0.8593103448275862, 0.8593103448275862, 0.8593103448275862, 0.8593103448275862, 0.8593103448275862, 0.8593103448275862, 0.8593103448275862, 0.8593103448275862, 0.8593103448275862, 0.8593103448275862, 0.8593103448275862, 0.8593103448275862, 0.8593103448275862, 0.8593103448275862, 0.8593103448275862, 0.8593103448275862]}], \"recall_score_macro\": [{\"categories\": [\"0\", \"1\", \"4\", \"5\", \"8\", \"9\", \"11\", \"15\", \"16\", \"17\", \"19\", \"20\", \"23\", \"25\", \"26\", \"27\", \"28\", \"29\", \"30\", \"31\", \"32\", \"33\", \"35\", \"36\"], \"mode\": \"markers\", \"name\": \"recall_score_macro\", \"stepped\": false, \"type\": \"scatter\", \"data\": [0.8077082895810014, 0.8130249020938379, 0.8314527833912845, 0.5462382764387913, 0.61765993953923, 0.815982428485575, 0.6712533206369018, 0.7653338629016546, 0.8045566794951806, 0.8058661719351079, 0.8222006510842323, 0.8224065759755119, 0.7890289850944885, 0.8178538750532457, 0.7900768918343288, 0.8173624352382933, 0.7469272014852679, 0.8122564819492737, 0.5, 0.757286657850159, 0.8014639856393287, 0.6225631313131312, 0.5, 0.8235564677504037]}, {\"categories\": [\"0\", \"1\", \"4\", \"5\", \"8\", \"9\", \"11\", \"15\", \"16\", \"17\", \"19\", \"20\", \"23\", \"25\", \"26\", \"27\", \"28\", \"29\", \"30\", \"31\", \"32\", \"33\", \"35\", \"36\"], \"mode\": \"lines\", \"name\": \"recall_score_macro_max\", \"stepped\": true, \"type\": \"scatter\", \"data\": [0.8077082895810014, 0.8130249020938379, 0.8314527833912845, 0.8314527833912845, 0.8314527833912845, 0.8314527833912845, 0.8314527833912845, 0.8314527833912845, 0.8314527833912845, 0.8314527833912845, 0.8314527833912845, 0.8314527833912845, 0.8314527833912845, 0.8314527833912845, 0.8314527833912845, 0.8314527833912845, 0.8314527833912845, 0.8314527833912845, 0.8314527833912845, 0.8314527833912845, 0.8314527833912845, 0.8314527833912845, 0.8314527833912845, 0.8314527833912845]}], \"log_loss\": [{\"categories\": [\"0\", \"1\", \"4\", \"5\", \"8\", \"9\", \"11\", \"15\", \"16\", \"17\", \"19\", \"20\", \"23\", \"25\", \"26\", \"27\", \"28\", \"29\", \"30\", \"31\", \"32\", \"33\", \"35\", \"36\"], \"mode\": \"markers\", \"name\": \"log_loss\", \"stepped\": false, \"type\": \"scatter\", \"data\": [0.48178524669308065, 0.41764279420186134, 0.39212207022259304, 0.706099308813747, 0.5887236232300054, 0.3722326171386371, 0.5327683311383095, 0.49339850403519847, 0.36905204389156904, 0.37305143648418626, 0.4611037816232038, 0.37203366403086247, 0.4626758255435862, 0.3733814473628517, 0.4089657307106151, 0.5795682865282981, 0.45691191312056356, 0.47890977486467634, 0.6212173865302266, 0.43890547641858646, 0.42087870984103815, 0.5040260989335084, 0.5974046792896666, 0.3555212159720403]}, {\"categories\": [\"0\", \"1\", \"4\", \"5\", \"8\", \"9\", \"11\", \"15\", \"16\", \"17\", \"19\", \"20\", \"23\", \"25\", \"26\", \"27\", \"28\", \"29\", \"30\", \"31\", \"32\", \"33\", \"35\", \"36\"], \"mode\": \"lines\", \"name\": \"log_loss_min\", \"stepped\": true, \"type\": \"scatter\", \"data\": [0.48178524669308065, 0.41764279420186134, 0.39212207022259304, 0.39212207022259304, 0.39212207022259304, 0.3722326171386371, 0.3722326171386371, 0.3722326171386371, 0.36905204389156904, 0.36905204389156904, 0.36905204389156904, 0.36905204389156904, 0.36905204389156904, 0.36905204389156904, 0.36905204389156904, 0.36905204389156904, 0.36905204389156904, 0.36905204389156904, 0.36905204389156904, 0.36905204389156904, 0.36905204389156904, 0.36905204389156904, 0.36905204389156904, 0.3555212159720403]}], \"AUC_macro\": [{\"categories\": [\"0\", \"1\", \"4\", \"5\", \"8\", \"9\", \"11\", \"15\", \"16\", \"17\", \"19\", \"20\", \"23\", \"25\", \"26\", \"27\", \"28\", \"29\", \"30\", \"31\", \"32\", \"33\", \"35\", \"36\"], \"mode\": \"markers\", \"name\": \"AUC_macro\", \"stepped\": false, \"type\": \"scatter\", \"data\": [0.8831034719814468, 0.8847369443591411, 0.9028613008971703, 0.5058572603005097, 0.8332658768957968, 0.8985186827961427, 0.7996258755419511, 0.8622732591524926, 0.8992620551158309, 0.8996378547103376, 0.87287301259847, 0.8960912485429647, 0.8674226487661842, 0.9144947104256028, 0.8714109459529368, 0.8606093558445961, 0.883619489985394, 0.8997966044337898, 0.7768225431139333, 0.885666114616801, 0.8687303076807081, 0.8800001222588751, 0.7498230626384802, 0.9086939266534804]}, {\"categories\": [\"0\", \"1\", \"4\", \"5\", \"8\", \"9\", \"11\", \"15\", \"16\", \"17\", \"19\", \"20\", \"23\", \"25\", \"26\", \"27\", \"28\", \"29\", \"30\", \"31\", \"32\", \"33\", \"35\", \"36\"], \"mode\": \"lines\", \"name\": \"AUC_macro_max\", \"stepped\": true, \"type\": \"scatter\", \"data\": [0.8831034719814468, 0.8847369443591411, 0.9028613008971703, 0.9028613008971703, 0.9028613008971703, 0.9028613008971703, 0.9028613008971703, 0.9028613008971703, 0.9028613008971703, 0.9028613008971703, 0.9028613008971703, 0.9028613008971703, 0.9028613008971703, 0.9144947104256028, 0.9144947104256028, 0.9144947104256028, 0.9144947104256028, 0.9144947104256028, 0.9144947104256028, 0.9144947104256028, 0.9144947104256028, 0.9144947104256028, 0.9144947104256028, 0.9144947104256028]}], \"precision_score_macro\": [{\"categories\": [\"0\", \"1\", \"4\", \"5\", \"8\", \"9\", \"11\", \"15\", \"16\", \"17\", \"19\", \"20\", \"23\", \"25\", \"26\", \"27\", \"28\", \"29\", \"30\", \"31\", \"32\", \"33\", \"35\", \"36\"], \"mode\": \"markers\", \"name\": \"precision_score_macro\", \"stepped\": false, \"type\": \"scatter\", \"data\": [0.8167365852764965, 0.8232986049897815, 0.8520443996110977, 0.5285095656467471, 0.7597003248986007, 0.8191934135247502, 0.7515239985457377, 0.7798998525628961, 0.8622228308177965, 0.8136277056277056, 0.8184560623396436, 0.8408582185788067, 0.7717295219830049, 0.8115940398592001, 0.8120545620474111, 0.7999237703301171, 0.8524568048698484, 0.7930597326649957, 0.33959770114942534, 0.8493108288651768, 0.8261244510320598, 0.8575070102311482, 0.33959770114942534, 0.8475612883493318]}, {\"categories\": [\"0\", \"1\", \"4\", \"5\", \"8\", \"9\", \"11\", \"15\", \"16\", \"17\", \"19\", \"20\", \"23\", \"25\", \"26\", \"27\", \"28\", \"29\", \"30\", \"31\", \"32\", \"33\", \"35\", \"36\"], \"mode\": \"lines\", \"name\": \"precision_score_macro_max\", \"stepped\": true, \"type\": \"scatter\", \"data\": [0.8167365852764965, 0.8232986049897815, 0.8520443996110977, 0.8520443996110977, 0.8520443996110977, 0.8520443996110977, 0.8520443996110977, 0.8520443996110977, 0.8622228308177965, 0.8622228308177965, 0.8622228308177965, 0.8622228308177965, 0.8622228308177965, 0.8622228308177965, 0.8622228308177965, 0.8622228308177965, 0.8622228308177965, 0.8622228308177965, 0.8622228308177965, 0.8622228308177965, 0.8622228308177965, 0.8622228308177965, 0.8622228308177965, 0.8622228308177965]}], \"average_precision_score_weighted\": [{\"categories\": [\"0\", \"1\", \"4\", \"5\", \"8\", \"9\", \"11\", \"15\", \"16\", \"17\", \"19\", \"20\", \"23\", \"25\", \"26\", \"27\", \"28\", \"29\", \"30\", \"31\", \"32\", \"33\", \"35\", \"36\"], \"mode\": \"markers\", \"name\": \"average_precision_score_weighted\", \"stepped\": false, \"type\": \"scatter\", \"data\": [0.9051008129377234, 0.907154018724502, 0.9195172452015952, 0.6307313459057176, 0.8602186701143436, 0.9120313694155693, 0.8273592109561794, 0.881325058913727, 0.9168201586767749, 0.917847360540982, 0.8958122419839458, 0.9151320934713377, 0.8886032389371155, 0.9252412569319752, 0.8964954127247413, 0.8898427813268605, 0.9062776328661843, 0.9165554099511348, 0.825954427676491, 0.9108537946244523, 0.8922477060243329, 0.9035019031136905, 0.7904736269242747, 0.9258149513021093]}, {\"categories\": [\"0\", \"1\", \"4\", \"5\", \"8\", \"9\", \"11\", \"15\", \"16\", \"17\", \"19\", \"20\", \"23\", \"25\", \"26\", \"27\", \"28\", \"29\", \"30\", \"31\", \"32\", \"33\", \"35\", \"36\"], \"mode\": \"lines\", \"name\": \"average_precision_score_weighted_max\", \"stepped\": true, \"type\": \"scatter\", \"data\": [0.9051008129377234, 0.907154018724502, 0.9195172452015952, 0.9195172452015952, 0.9195172452015952, 0.9195172452015952, 0.9195172452015952, 0.9195172452015952, 0.9195172452015952, 0.9195172452015952, 0.9195172452015952, 0.9195172452015952, 0.9195172452015952, 0.9252412569319752, 0.9252412569319752, 0.9252412569319752, 0.9252412569319752, 0.9252412569319752, 0.9252412569319752, 0.9252412569319752, 0.9252412569319752, 0.9252412569319752, 0.9252412569319752, 0.9258149513021093]}], \"recall_score_weighted\": [{\"categories\": [\"0\", \"1\", \"4\", \"5\", \"8\", \"9\", \"11\", \"15\", \"16\", \"17\", \"19\", \"20\", \"23\", \"25\", \"26\", \"27\", \"28\", \"29\", \"30\", \"31\", \"32\", \"33\", \"35\", \"36\"], \"mode\": \"markers\", \"name\": \"recall_score_weighted\", \"stepped\": false, \"type\": \"scatter\", \"data\": [0.8359770114942527, 0.8358620689655172, 0.8593103448275862, 0.6424137931034483, 0.7393103448275863, 0.8394252873563218, 0.749080459770115, 0.8026436781609195, 0.8495402298850576, 0.8325287356321839, 0.8426436781609196, 0.8560919540229885, 0.792528735632184, 0.8358620689655172, 0.825977011494253, 0.8257471264367815, 0.8227586206896552, 0.825632183908046, 0.6791954022988507, 0.8260919540229885, 0.8358620689655172, 0.7526436781609196, 0.6791954022988507, 0.8526436781609196]}, {\"categories\": [\"0\", \"1\", \"4\", \"5\", \"8\", \"9\", \"11\", \"15\", \"16\", \"17\", \"19\", \"20\", \"23\", \"25\", \"26\", \"27\", \"28\", \"29\", \"30\", \"31\", \"32\", \"33\", \"35\", \"36\"], \"mode\": \"lines\", \"name\": \"recall_score_weighted_max\", \"stepped\": true, \"type\": \"scatter\", \"data\": [0.8359770114942527, 0.8359770114942527, 0.8593103448275862, 0.8593103448275862, 0.8593103448275862, 0.8593103448275862, 0.8593103448275862, 0.8593103448275862, 0.8593103448275862, 0.8593103448275862, 0.8593103448275862, 0.8593103448275862, 0.8593103448275862, 0.8593103448275862, 0.8593103448275862, 0.8593103448275862, 0.8593103448275862, 0.8593103448275862, 0.8593103448275862, 0.8593103448275862, 0.8593103448275862, 0.8593103448275862, 0.8593103448275862, 0.8593103448275862]}], \"precision_score_micro\": [{\"categories\": [\"0\", \"1\", \"4\", \"5\", \"8\", \"9\", \"11\", \"15\", \"16\", \"17\", \"19\", \"20\", \"23\", \"25\", \"26\", \"27\", \"28\", \"29\", \"30\", \"31\", \"32\", \"33\", \"35\", \"36\"], \"mode\": \"markers\", \"name\": \"precision_score_micro\", \"stepped\": false, \"type\": \"scatter\", \"data\": [0.8359770114942527, 0.8358620689655172, 0.8593103448275862, 0.6424137931034483, 0.7393103448275863, 0.8394252873563218, 0.749080459770115, 0.8026436781609195, 0.8495402298850576, 0.8325287356321839, 0.8426436781609196, 0.8560919540229885, 0.792528735632184, 0.8358620689655172, 0.825977011494253, 0.8257471264367815, 0.8227586206896552, 0.825632183908046, 0.6791954022988507, 0.8260919540229885, 0.8358620689655172, 0.7526436781609196, 0.6791954022988507, 0.8526436781609196]}, {\"categories\": [\"0\", \"1\", \"4\", \"5\", \"8\", \"9\", \"11\", \"15\", \"16\", \"17\", \"19\", \"20\", \"23\", \"25\", \"26\", \"27\", \"28\", \"29\", \"30\", \"31\", \"32\", \"33\", \"35\", \"36\"], \"mode\": \"lines\", \"name\": \"precision_score_micro_max\", \"stepped\": true, \"type\": \"scatter\", \"data\": [0.8359770114942527, 0.8359770114942527, 0.8593103448275862, 0.8593103448275862, 0.8593103448275862, 0.8593103448275862, 0.8593103448275862, 0.8593103448275862, 0.8593103448275862, 0.8593103448275862, 0.8593103448275862, 0.8593103448275862, 0.8593103448275862, 0.8593103448275862, 0.8593103448275862, 0.8593103448275862, 0.8593103448275862, 0.8593103448275862, 0.8593103448275862, 0.8593103448275862, 0.8593103448275862, 0.8593103448275862, 0.8593103448275862, 0.8593103448275862]}], \"accuracy\": [{\"categories\": [\"0\", \"1\", \"4\", \"5\", \"8\", \"9\", \"11\", \"15\", \"16\", \"17\", \"19\", \"20\", \"23\", \"25\", \"26\", \"27\", \"28\", \"29\", \"30\", \"31\", \"32\", \"33\", \"35\", \"36\"], \"mode\": \"markers\", \"name\": \"accuracy\", \"stepped\": false, \"type\": \"scatter\", \"data\": [0.8359770114942527, 0.8358620689655172, 0.8593103448275862, 0.6424137931034483, 0.7393103448275863, 0.8394252873563218, 0.749080459770115, 0.8026436781609195, 0.8495402298850576, 0.8325287356321839, 0.8426436781609196, 0.8560919540229885, 0.792528735632184, 0.8358620689655172, 0.825977011494253, 0.8257471264367815, 0.8227586206896552, 0.825632183908046, 0.6791954022988507, 0.8260919540229885, 0.8358620689655172, 0.7526436781609196, 0.6791954022988507, 0.8526436781609196]}, {\"categories\": [\"0\", \"1\", \"4\", \"5\", \"8\", \"9\", \"11\", \"15\", \"16\", \"17\", \"19\", \"20\", \"23\", \"25\", \"26\", \"27\", \"28\", \"29\", \"30\", \"31\", \"32\", \"33\", \"35\", \"36\"], \"mode\": \"lines\", \"name\": \"accuracy_max\", \"stepped\": true, \"type\": \"scatter\", \"data\": [0.8359770114942527, 0.8359770114942527, 0.8593103448275862, 0.8593103448275862, 0.8593103448275862, 0.8593103448275862, 0.8593103448275862, 0.8593103448275862, 0.8593103448275862, 0.8593103448275862, 0.8593103448275862, 0.8593103448275862, 0.8593103448275862, 0.8593103448275862, 0.8593103448275862, 0.8593103448275862, 0.8593103448275862, 0.8593103448275862, 0.8593103448275862, 0.8593103448275862, 0.8593103448275862, 0.8593103448275862, 0.8593103448275862, 0.8593103448275862]}], \"average_precision_score_macro\": [{\"categories\": [\"0\", \"1\", \"4\", \"5\", \"8\", \"9\", \"11\", \"15\", \"16\", \"17\", \"19\", \"20\", \"23\", \"25\", \"26\", \"27\", \"28\", \"29\", \"30\", \"31\", \"32\", \"33\", \"35\", \"36\"], \"mode\": \"markers\", \"name\": \"average_precision_score_macro\", \"stepped\": false, \"type\": \"scatter\", \"data\": [0.8794329614904072, 0.8807340475847678, 0.8921531458325905, 0.5741193378226761, 0.8168239673569666, 0.8848358073364535, 0.782871142157552, 0.851897551293337, 0.8919007978522803, 0.8920566339654513, 0.8662589203482497, 0.8874550291522019, 0.8522056473141492, 0.8994954618270887, 0.8617533119423235, 0.8599281574918004, 0.8818619979270388, 0.8900201439965043, 0.772513929828097, 0.8879926536303799, 0.8570182851089229, 0.8726950375653904, 0.7344160770355901, 0.9003805573142456]}, {\"categories\": [\"0\", \"1\", \"4\", \"5\", \"8\", \"9\", \"11\", \"15\", \"16\", \"17\", \"19\", \"20\", \"23\", \"25\", \"26\", \"27\", \"28\", \"29\", \"30\", \"31\", \"32\", \"33\", \"35\", \"36\"], \"mode\": \"lines\", \"name\": \"average_precision_score_macro_max\", \"stepped\": true, \"type\": \"scatter\", \"data\": [0.8794329614904072, 0.8807340475847678, 0.8921531458325905, 0.8921531458325905, 0.8921531458325905, 0.8921531458325905, 0.8921531458325905, 0.8921531458325905, 0.8921531458325905, 0.8921531458325905, 0.8921531458325905, 0.8921531458325905, 0.8921531458325905, 0.8994954618270887, 0.8994954618270887, 0.8994954618270887, 0.8994954618270887, 0.8994954618270887, 0.8994954618270887, 0.8994954618270887, 0.8994954618270887, 0.8994954618270887, 0.8994954618270887, 0.9003805573142456]}], \"matthews_correlation\": [{\"categories\": [\"0\", \"1\", \"4\", \"5\", \"8\", \"9\", \"11\", \"15\", \"16\", \"17\", \"19\", \"20\", \"23\", \"25\", \"26\", \"27\", \"28\", \"29\", \"30\", \"31\", \"32\", \"33\", \"35\", \"36\"], \"mode\": \"markers\", \"name\": \"matthews_correlation\", \"stepped\": false, \"type\": \"scatter\", \"data\": [0.6231314496952846, 0.6345538749068885, 0.6815460945218462, 0.0819796276020419, 0.33431381404420973, 0.6334451054623831, 0.40645671299787123, 0.5428289655628894, 0.6602454686080111, 0.6180149534303092, 0.639624236586158, 0.6613844749265068, 0.5585540540065608, 0.6280054170715869, 0.5999751236818767, 0.6162612118378925, 0.5850009270002074, 0.604386800776974, 0.0, 0.5966734952599031, 0.6259491027620547, 0.4064399355055056, 0.0, 0.668141274901191]}, {\"categories\": [\"0\", \"1\", \"4\", \"5\", \"8\", \"9\", \"11\", \"15\", \"16\", \"17\", \"19\", \"20\", \"23\", \"25\", \"26\", \"27\", \"28\", \"29\", \"30\", \"31\", \"32\", \"33\", \"35\", \"36\"], \"mode\": \"lines\", \"name\": \"matthews_correlation_max\", \"stepped\": true, \"type\": \"scatter\", \"data\": [0.6231314496952846, 0.6345538749068885, 0.6815460945218462, 0.6815460945218462, 0.6815460945218462, 0.6815460945218462, 0.6815460945218462, 0.6815460945218462, 0.6815460945218462, 0.6815460945218462, 0.6815460945218462, 0.6815460945218462, 0.6815460945218462, 0.6815460945218462, 0.6815460945218462, 0.6815460945218462, 0.6815460945218462, 0.6815460945218462, 0.6815460945218462, 0.6815460945218462, 0.6815460945218462, 0.6815460945218462, 0.6815460945218462, 0.6815460945218462]}], \"norm_macro_recall\": [{\"categories\": [\"0\", \"1\", \"4\", \"5\", \"8\", \"9\", \"11\", \"15\", \"16\", \"17\", \"19\", \"20\", \"23\", \"25\", \"26\", \"27\", \"28\", \"29\", \"30\", \"31\", \"32\", \"33\", \"35\", \"36\"], \"mode\": \"markers\", \"name\": \"norm_macro_recall\", \"stepped\": false, \"type\": \"scatter\", \"data\": [0.6154165791620023, 0.626049804187676, 0.662905566782569, 0.1312714568040655, 0.24584619486793394, 0.6319648569711499, 0.34537745467093295, 0.5306677258033093, 0.6091133589903612, 0.6117323438702157, 0.6444013021684647, 0.6448131519510237, 0.5780579701889771, 0.6357077501064916, 0.5801537836686578, 0.6347248704765868, 0.4938544029705357, 0.6245129638985475, 0.0, 0.5145733157003181, 0.6029279712786577, 0.2451262626262626, 0.0, 0.6471129355008072]}, {\"categories\": [\"0\", \"1\", \"4\", \"5\", \"8\", \"9\", \"11\", \"15\", \"16\", \"17\", \"19\", \"20\", \"23\", \"25\", \"26\", \"27\", \"28\", \"29\", \"30\", \"31\", \"32\", \"33\", \"35\", \"36\"], \"mode\": \"lines\", \"name\": \"norm_macro_recall_max\", \"stepped\": true, \"type\": \"scatter\", \"data\": [0.6154165791620023, 0.626049804187676, 0.662905566782569, 0.662905566782569, 0.662905566782569, 0.662905566782569, 0.662905566782569, 0.662905566782569, 0.662905566782569, 0.662905566782569, 0.662905566782569, 0.662905566782569, 0.662905566782569, 0.662905566782569, 0.662905566782569, 0.662905566782569, 0.662905566782569, 0.662905566782569, 0.662905566782569, 0.662905566782569, 0.662905566782569, 0.662905566782569, 0.662905566782569, 0.662905566782569]}], \"balanced_accuracy\": [{\"categories\": [\"0\", \"1\", \"4\", \"5\", \"8\", \"9\", \"11\", \"15\", \"16\", \"17\", \"19\", \"20\", \"23\", \"25\", \"26\", \"27\", \"28\", \"29\", \"30\", \"31\", \"32\", \"33\", \"35\", \"36\"], \"mode\": \"markers\", \"name\": \"balanced_accuracy\", \"stepped\": false, \"type\": \"scatter\", \"data\": [0.8077082895810014, 0.8130249020938379, 0.8314527833912845, 0.5462382764387913, 0.61765993953923, 0.815982428485575, 0.6712533206369018, 0.7653338629016546, 0.8045566794951806, 0.8058661719351079, 0.8222006510842323, 0.8224065759755119, 0.7890289850944885, 0.8178538750532457, 0.7900768918343288, 0.8173624352382933, 0.7469272014852679, 0.8122564819492737, 0.5, 0.757286657850159, 0.8014639856393287, 0.6225631313131312, 0.5, 0.8235564677504037]}, {\"categories\": [\"0\", \"1\", \"4\", \"5\", \"8\", \"9\", \"11\", \"15\", \"16\", \"17\", \"19\", \"20\", \"23\", \"25\", \"26\", \"27\", \"28\", \"29\", \"30\", \"31\", \"32\", \"33\", \"35\", \"36\"], \"mode\": \"lines\", \"name\": \"balanced_accuracy_max\", \"stepped\": true, \"type\": \"scatter\", \"data\": [0.8077082895810014, 0.8130249020938379, 0.8314527833912845, 0.8314527833912845, 0.8314527833912845, 0.8314527833912845, 0.8314527833912845, 0.8314527833912845, 0.8314527833912845, 0.8314527833912845, 0.8314527833912845, 0.8314527833912845, 0.8314527833912845, 0.8314527833912845, 0.8314527833912845, 0.8314527833912845, 0.8314527833912845, 0.8314527833912845, 0.8314527833912845, 0.8314527833912845, 0.8314527833912845, 0.8314527833912845, 0.8314527833912845, 0.8314527833912845]}], \"average_precision_score_micro\": [{\"categories\": [\"0\", \"1\", \"4\", \"5\", \"8\", \"9\", \"11\", \"15\", \"16\", \"17\", \"19\", \"20\", \"23\", \"25\", \"26\", \"27\", \"28\", \"29\", \"30\", \"31\", \"32\", \"33\", \"35\", \"36\"], \"mode\": \"markers\", \"name\": \"average_precision_score_micro\", \"stepped\": false, \"type\": \"scatter\", \"data\": [0.9012598211363931, 0.9033793522124445, 0.9155363729429506, 0.6528425787987014, 0.8462412467064075, 0.9101948793998321, 0.8155709195265199, 0.8759644368256971, 0.9151171961327675, 0.910750709241176, 0.8937459117780706, 0.915055993167238, 0.861974341731363, 0.9127915408775659, 0.8951111687199619, 0.8743321117481845, 0.886596155461614, 0.9062314781710175, 0.8099512621973023, 0.9004557206436123, 0.8889063781096102, 0.8689546168526865, 0.7955900267639693, 0.922840394950805]}, {\"categories\": [\"0\", \"1\", \"4\", \"5\", \"8\", \"9\", \"11\", \"15\", \"16\", \"17\", \"19\", \"20\", \"23\", \"25\", \"26\", \"27\", \"28\", \"29\", \"30\", \"31\", \"32\", \"33\", \"35\", \"36\"], \"mode\": \"lines\", \"name\": \"average_precision_score_micro_max\", \"stepped\": true, \"type\": \"scatter\", \"data\": [0.9012598211363931, 0.9033793522124445, 0.9155363729429506, 0.9155363729429506, 0.9155363729429506, 0.9155363729429506, 0.9155363729429506, 0.9155363729429506, 0.9155363729429506, 0.9155363729429506, 0.9155363729429506, 0.9155363729429506, 0.9155363729429506, 0.9155363729429506, 0.9155363729429506, 0.9155363729429506, 0.9155363729429506, 0.9155363729429506, 0.9155363729429506, 0.9155363729429506, 0.9155363729429506, 0.9155363729429506, 0.9155363729429506, 0.922840394950805]}], \"AUC_micro\": [{\"categories\": [\"0\", \"1\", \"4\", \"5\", \"8\", \"9\", \"11\", \"15\", \"16\", \"17\", \"19\", \"20\", \"23\", \"25\", \"26\", \"27\", \"28\", \"29\", \"30\", \"31\", \"32\", \"33\", \"35\", \"36\"], \"mode\": \"markers\", \"name\": \"AUC_micro\", \"stepped\": false, \"type\": \"scatter\", \"data\": [0.9026533227639053, 0.9042166732725592, 0.9108112035936056, 0.6536476416963932, 0.839863918615405, 0.9097742105958517, 0.8154195402298849, 0.8809554762848462, 0.9153004359889021, 0.9124720570749106, 0.8938307570352755, 0.9128833399392258, 0.8640823094200026, 0.9152770511296078, 0.8915286035143348, 0.8734118113357114, 0.8834057339146518, 0.9073804994054697, 0.7957761923635883, 0.8989788611441405, 0.8856543136477739, 0.8568931166600608, 0.7817080195534417, 0.919778042013476]}, {\"categories\": [\"0\", \"1\", \"4\", \"5\", \"8\", \"9\", \"11\", \"15\", \"16\", \"17\", \"19\", \"20\", \"23\", \"25\", \"26\", \"27\", \"28\", \"29\", \"30\", \"31\", \"32\", \"33\", \"35\", \"36\"], \"mode\": \"lines\", \"name\": \"AUC_micro_max\", \"stepped\": true, \"type\": \"scatter\", \"data\": [0.9026533227639053, 0.9042166732725592, 0.9108112035936056, 0.9108112035936056, 0.9108112035936056, 0.9108112035936056, 0.9108112035936056, 0.9108112035936056, 0.9153004359889021, 0.9153004359889021, 0.9153004359889021, 0.9153004359889021, 0.9153004359889021, 0.9153004359889021, 0.9153004359889021, 0.9153004359889021, 0.9153004359889021, 0.9153004359889021, 0.9153004359889021, 0.9153004359889021, 0.9153004359889021, 0.9153004359889021, 0.9153004359889021, 0.919778042013476]}]}, \"metricName\": null, \"primaryMetricName\": \"AUC_weighted\", \"showLegend\": false}, \"run_metrics\": [{\"name\": \"experiment_status\", \"run_id\": \"AutoML_a26b767d-03bd-4304-b1b8-e5edd42d6ab9\", \"categories\": [0, 1, 2, 3, 4, 5], \"series\": [{\"data\": [\"DatasetEvaluation\", \"FeaturesGeneration\", \"DatasetFeaturization\", \"DatasetFeaturizationCompleted\", \"DatasetCrossValidationSplit\", \"ModelSelection\"]}]}, {\"name\": \"experiment_status_description\", \"run_id\": \"AutoML_a26b767d-03bd-4304-b1b8-e5edd42d6ab9\", \"categories\": [0, 1, 2, 3, 4, 5], \"series\": [{\"data\": [\"Gathering dataset statistics.\", \"Generating features for the dataset.\", \"Beginning to fit featurizers and featurize the dataset.\", \"Completed fit featurizers and featurizing the dataset.\", \"Generating individually featurized CV splits.\", \"Beginning model selection.\"]}]}], \"run_logs\": \"Your job is submitted in Azure cloud and we are monitoring to get logs...\", \"graph\": {}, \"widget_settings\": {\"childWidgetDisplay\": \"popup\", \"send_telemetry\": false, \"log_level\": \"INFO\", \"sdk_version\": \"1.38.0\"}, \"loading\": false}"
          },
          "metadata": {}
        }
      ],
      "execution_count": 11,
      "metadata": {
        "gather": {
          "logged": 1645962271515
        },
        "jupyter": {
          "outputs_hidden": false,
          "source_hidden": false
        },
        "nteract": {
          "transient": {
            "deleting": false
          }
        }
      }
    },
    {
      "cell_type": "markdown",
      "source": [
        "## Best Model\n",
        "\n",
        "TODO: In the cell below, get the best model from the automl experiments and display all the properties of the model.\n",
        "\n"
      ],
      "metadata": {}
    },
    {
      "cell_type": "code",
      "source": [
        "best_run, fitted_automl_best_model = remote_run.get_output()\r\n",
        "best_run_metrics = best_run.get_metrics()\r\n",
        "print('Best Run ID',best_run.id)\r\n",
        "best_run\r\n",
        "fitted_automl_best_model"
      ],
      "outputs": [
        {
          "output_type": "stream",
          "name": "stdout",
          "text": "Best Run ID AutoML_a26b767d-03bd-4304-b1b8-e5edd42d6ab9_43\n"
        },
        {
          "output_type": "execute_result",
          "execution_count": 15,
          "data": {
            "text/plain": "Pipeline(memory=None,\n         steps=[('datatransformer',\n                 DataTransformer(enable_dnn=False, enable_feature_sweeping=True, feature_sweeping_config={}, feature_sweeping_timeout=86400, featurization_config=None, force_text_dnn=False, is_cross_validation=True, is_onnx_compatible=False, observer=None, task='classification', working_dir='/mnt/batch/tasks/shared/LS_root/mount...\n), random_state=0, reg_alpha=0, reg_lambda=1.875, subsample=0.7, tree_method='hist'))], verbose=False)), ('24', Pipeline(memory=None, steps=[('maxabsscaler', MaxAbsScaler(copy=True)), ('randomforestclassifier', RandomForestClassifier(bootstrap=True, ccp_alpha=0.0, class_weight='balanced', criterion='gini', max_depth=None, max_features='log2', max_leaf_nodes=None, max_samples=None, min_impurity_decrease=0.0, min_impurity_split=None, min_samples_leaf=0.06157894736842105, min_samples_split=0.10368421052631578, min_weight_fraction_leaf=0.0, n_estimators=25, n_jobs=1, oob_score=True, random_state=None, verbose=0, warm_start=False))], verbose=False)), ('17', Pipeline(memory=None, steps=[('minmaxscaler', MinMaxScaler(copy=True, feature_range=(0, 1))), ('extratreesclassifier', ExtraTreesClassifier(bootstrap=False, ccp_alpha=0.0, class_weight='balanced', criterion='gini', max_depth=None, max_features=0.9, max_leaf_nodes=None, max_samples=None, min_impurity_decrease=0.0, min_impurity_split=None, min_samples_leaf=0.01, min_samples_split=0.01, min_weight_fraction_leaf=0.0, n_estimators=25, n_jobs=1, oob_score=False, random_state=None, verbose=0, warm_start=False))], verbose=False)), ('18', Pipeline(memory=None, steps=[('sparsenormalizer', Normalizer(copy=True, norm='l1')), ('lightgbmclassifier', LightGBMClassifier(boosting_type='goss', colsample_bytree=0.7922222222222222, learning_rate=0.09473736842105263, max_bin=80, max_depth=6, min_child_weight=0, min_data_in_leaf=0.05172896551724139, min_split_gain=0.894736842105263, n_estimators=25, n_jobs=1, num_leaves=140, problem_info=ProblemInfo(\n    gpu_training_param_dict={'processing_unit_type': 'cpu'}\n), random_state=None, reg_alpha=0.2631578947368421, reg_lambda=0, subsample=1))], verbose=False))], flatten_transform=None, weights=[0.1111111111111111, 0.1111111111111111, 0.1111111111111111, 0.1111111111111111, 0.1111111111111111, 0.2222222222222222, 0.2222222222222222]))],\n         verbose=False)"
          },
          "metadata": {}
        }
      ],
      "execution_count": 15,
      "metadata": {
        "gather": {
          "logged": 1645963417266
        },
        "jupyter": {
          "outputs_hidden": false,
          "source_hidden": false
        },
        "nteract": {
          "transient": {
            "deleting": false
          }
        }
      }
    },
    {
      "cell_type": "code",
      "source": [
        "# Metric in best run\r\n",
        "for metric_name in best_run_metrics:\r\n",
        "    metric = best_run_metrics[metric_name]\r\n",
        "    print(metric_name, metric)\r\n",
        "    \r\n",
        "print('\\nAccuracy of Best run',best_run_metrics['accuracy'],sep='\\n')\r\n",
        "print(best_run)\r\n",
        "\r\n",
        "model_name = best_run.properties['model_name']\r\n",
        "model_name#Register the model\r\n",
        "model = remote_run.register_model(model_name=model_name)\r\n",
        "print(model.name, model.id, model.version, sep='\\t')"
      ],
      "outputs": [
        {
          "output_type": "stream",
          "name": "stdout",
          "text": "recall_score_macro 0.822605380793882\nweighted_accuracy 0.8717291910397507\nAUC_macro 0.9233179758520148\nrecall_score_weighted 0.8526436781609196\nf1_score_micro 0.8526436781609196\nf1_score_macro 0.8219504128441066\nrecall_score_micro 0.8526436781609196\naverage_precision_score_micro 0.9299753867891427\nAUC_weighted 0.9233179758520148\naverage_precision_score_macro 0.9120913081727651\nprecision_score_micro 0.8526436781609196\naccuracy 0.8526436781609196\nprecision_score_weighted 0.8662518792191207\nmatthews_correlation 0.6651125415988735\nf1_score_weighted 0.8491191800514167\nAUC_micro 0.9271893248777909\nprecision_score_macro 0.8448944805194806\nbalanced_accuracy 0.822605380793882\naverage_precision_score_weighted 0.9348106851848842\nnorm_macro_recall 0.6452107615877638\nlog_loss 0.3645809617330514\naccuracy_table aml://artifactId/ExperimentRun/dcid.AutoML_a26b767d-03bd-4304-b1b8-e5edd42d6ab9_43/accuracy_table\nconfusion_matrix aml://artifactId/ExperimentRun/dcid.AutoML_a26b767d-03bd-4304-b1b8-e5edd42d6ab9_43/confusion_matrix\n\nAccuracy of Best run\n0.8526436781609196\nRun(Experiment: automl-classification-experiment,\nId: AutoML_a26b767d-03bd-4304-b1b8-e5edd42d6ab9_43,\nType: azureml.scriptrun,\nStatus: Completed)\n"
        },
        {
          "output_type": "execute_result",
          "execution_count": 21,
          "data": {
            "text/plain": "'AutoMLa26b767d043'"
          },
          "metadata": {}
        }
      ],
      "execution_count": 21,
      "metadata": {
        "jupyter": {
          "source_hidden": false,
          "outputs_hidden": false
        },
        "nteract": {
          "transient": {
            "deleting": false
          }
        },
        "gather": {
          "logged": 1645963565214
        }
      }
    },
    {
      "cell_type": "code",
      "source": [
        "#TODO: Save the best model\r\n",
        "\r\n",
        "joblib.dump(fitted_automl_best_model, filename='automl.joblib')"
      ],
      "outputs": [
        {
          "output_type": "execute_result",
          "execution_count": 20,
          "data": {
            "text/plain": "['automl.joblib']"
          },
          "metadata": {}
        }
      ],
      "execution_count": 20,
      "metadata": {
        "gather": {
          "logged": 1645963501970
        },
        "jupyter": {
          "outputs_hidden": false,
          "source_hidden": false
        },
        "nteract": {
          "transient": {
            "deleting": false
          }
        }
      }
    },
    {
      "cell_type": "markdown",
      "source": [
        "## Model Deployment\n",
        "\n",
        "Remember you have to deploy only one of the two models you trained but you still need to register both the models. Perform the steps in the rest of this notebook only if you wish to deploy this model.\n",
        "\n",
        "TODO: In the cell below, register the model, create an inference config and deploy the model as a web service."
      ],
      "metadata": {}
    },
    {
      "cell_type": "code",
      "source": [
        "#Register the model\r\n",
        "model = remote_run.register_model(model_name=model_name)\r\n",
        "print(model.name, model.id, model.version, sep='\\t')"
      ],
      "outputs": [
        {
          "output_type": "stream",
          "name": "stdout",
          "text": "AutoMLa26b767d043\tAutoMLa26b767d043:1\t1\n"
        }
      ],
      "execution_count": 22,
      "metadata": {
        "gather": {
          "logged": 1645963600203
        },
        "jupyter": {
          "outputs_hidden": false,
          "source_hidden": false
        },
        "nteract": {
          "transient": {
            "deleting": false
          }
        }
      }
    },
    {
      "cell_type": "code",
      "source": [
        "env = best_run.get_environment()\r\n",
        "\r\n",
        "script_file = 'score.py'\r\n",
        "best_run.download_file('outputs/scoring_file_v_1_0_0.py', script_file)"
      ],
      "outputs": [
        {
          "output_type": "execute_result",
          "execution_count": 27,
          "data": {
            "text/plain": "'score.py'"
          },
          "metadata": {}
        }
      ],
      "execution_count": 27,
      "metadata": {
        "jupyter": {
          "source_hidden": false,
          "outputs_hidden": false
        },
        "nteract": {
          "transient": {
            "deleting": false
          }
        },
        "gather": {
          "logged": 1645964043450
        }
      }
    },
    {
      "cell_type": "code",
      "source": [
        "from azureml.core.model import InferenceConfig\r\n",
        "from azureml.core.webservice import AciWebservice\r\n",
        "from azureml.core.webservice import Webservice\r\n",
        "from azureml.core.model import Model\r\n",
        "from azureml.core.environment import Environment\r\n",
        "\r\n",
        "inference_config = InferenceConfig(entry_script=script_file, environment=env)\r\n",
        "\r\n",
        "deployment_config = AciWebservice.deploy_configuration(cpu_cores = 1, \r\n",
        "                                                       memory_gb = 1)\r\n",
        "\r\n",
        "deploy_service_name= 'automl-model-deployment'\r\n",
        "service = Model.deploy(ws,deploy_service_name,  [model], inference_config, deployment_config)\r\n",
        "\r\n",
        "service.wait_for_deployment(show_output = True)\r\n",
        "\r\n",
        "scoring_uri = service.scoring_uri\r\n",
        "\r\n",
        "print(\"State: \",service.state)\r\n",
        "print(\"\\nScoring URI: \", scoring_uri)"
      ],
      "outputs": [
        {
          "output_type": "stream",
          "name": "stdout",
          "text": "Tips: You can try get_logs(): https://aka.ms/debugimage#dockerlog or local deployment: https://aka.ms/debugimage#debug-locally to debug if deployment takes longer than 10 minutes.\nRunning\n2022-02-27 12:15:00+00:00 Creating Container Registry if not exists..\n2022-02-27 12:25:01+00:00 Registering the environment.\n2022-02-27 12:25:01+00:00 Use the existing image.\n2022-02-27 12:25:01+00:00 Generating deployment configuration.\n2022-02-27 12:25:02+00:00 Submitting deployment to compute..\n2022-02-27 12:25:06+00:00 Checking the status of deployment automl-model-deployment..\n2022-02-27 12:27:56+00:00 Checking the status of inference endpoint automl-model-deployment.\nSucceeded\nACI service creation operation finished, operation \"Succeeded\"\nState:  Healthy\n\nScoring URI:  http://edf94abc-214c-47cd-b4e0-3a314e3698e3.southcentralus.azurecontainer.io/score\n"
        }
      ],
      "execution_count": 29,
      "metadata": {
        "jupyter": {
          "source_hidden": false,
          "outputs_hidden": false
        },
        "nteract": {
          "transient": {
            "deleting": false
          }
        },
        "gather": {
          "logged": 1645964880601
        }
      }
    },
    {
      "cell_type": "markdown",
      "source": [
        "TODO: In the cell below, send a request to the web service you deployed to test it."
      ],
      "metadata": {
        "collapsed": true,
        "gather": {
          "logged": 1598431657736
        },
        "jupyter": {
          "outputs_hidden": false,
          "source_hidden": false
        },
        "nteract": {
          "transient": {
            "deleting": false
          }
        }
      }
    },
    {
      "cell_type": "code",
      "source": [
        "import json\r\n",
        "data_sample = df.sample(3)\r\n",
        "y_true = data_sample.pop('DEATH_EVENT')\r\n",
        "sample_json = json.dumps({'data':data_sample.to_dict(orient='records')})\r\n",
        "print(sample_json)\r\n",
        "output = service.run(sample_json)\r\n",
        "print(output)"
      ],
      "outputs": [
        {
          "output_type": "stream",
          "name": "stdout",
          "text": "{\"data\": [{\"age\": 48.0, \"anaemia\": 1, \"creatinine_phosphokinase\": 582, \"diabetes\": 1, \"ejection_fraction\": 55, \"high_blood_pressure\": 0, \"platelets\": 87000.0, \"serum_creatinine\": 1.9, \"serum_sodium\": 121, \"sex\": 0, \"smoking\": 0, \"time\": 15}, {\"age\": 94.0, \"anaemia\": 0, \"creatinine_phosphokinase\": 582, \"diabetes\": 1, \"ejection_fraction\": 38, \"high_blood_pressure\": 1, \"platelets\": 263358.03, \"serum_creatinine\": 1.83, \"serum_sodium\": 134, \"sex\": 1, \"smoking\": 0, \"time\": 27}, {\"age\": 60.0, \"anaemia\": 1, \"creatinine_phosphokinase\": 582, \"diabetes\": 0, \"ejection_fraction\": 30, \"high_blood_pressure\": 1, \"platelets\": 127000.0, \"serum_creatinine\": 0.9, \"serum_sodium\": 145, \"sex\": 0, \"smoking\": 0, \"time\": 95}]}\n{\"result\": [1, 1, 0]}\n"
        }
      ],
      "execution_count": 30,
      "metadata": {
        "gather": {
          "logged": 1645964886314
        },
        "jupyter": {
          "outputs_hidden": false,
          "source_hidden": false
        },
        "nteract": {
          "transient": {
            "deleting": false
          }
        }
      }
    },
    {
      "cell_type": "markdown",
      "source": [
        "TODO: In the cell below, print the logs of the web service and delete the service"
      ],
      "metadata": {
        "collapsed": true,
        "gather": {
          "logged": 1598432765711
        },
        "jupyter": {
          "outputs_hidden": false,
          "source_hidden": false
        },
        "nteract": {
          "transient": {
            "deleting": false
          }
        }
      }
    },
    {
      "cell_type": "code",
      "source": [
        "print(\"\\nService Logs:\\n\",service.get_logs())"
      ],
      "outputs": [
        {
          "output_type": "stream",
          "name": "stdout",
          "text": "\nService Logs:\n 2022-02-27T12:27:30,589250000+00:00 - gunicorn/run \nDynamic Python package installation is disabled.\nStarting HTTP server\n2022-02-27T12:27:30,598215800+00:00 - iot-server/run \n2022-02-27T12:27:30,596315800+00:00 - rsyslog/run \n2022-02-27T12:27:30,750170700+00:00 - nginx/run \nrsyslogd: /azureml-envs/azureml_6797cf9b513e59b405ce80f3e9222a7d/lib/libuuid.so.1: no version information available (required by rsyslogd)\nStarting gunicorn 20.1.0\nListening at: http://127.0.0.1:31311 (75)\nUsing worker: sync\nworker timeout is set to 300\nBooting worker with pid: 94\nSPARK_HOME not set. Skipping PySpark Initialization.\nGenerating new fontManager, this may take some time...\nEdgeHubConnectionString and IOTEDGE_IOTHUBHOSTNAME are not set. Exiting...\n2022-02-27T12:27:34,818509000+00:00 - iot-server/finish 1 0\n2022-02-27T12:27:34,820788900+00:00 - Exit code 1 is normal. Not restarting iot-server.\nInitializing logger\n2022-02-27 12:27:35,397 | root | INFO | Starting up app insights client\nlogging socket was found. logging is available.\nlogging socket was found. logging is available.\n2022-02-27 12:27:35,398 | root | INFO | Starting up request id generator\n2022-02-27 12:27:35,398 | root | INFO | Starting up app insight hooks\n2022-02-27 12:27:35,399 | root | INFO | Invoking user's init function\n2022-02-27 12:27:42,517 | root | INFO | Users's init has completed successfully\n2022-02-27 12:27:42,523 | root | INFO | Skipping middleware: dbg_model_info as it's not enabled.\n2022-02-27 12:27:42,550 | root | INFO | Skipping middleware: dbg_resource_usage as it's not enabled.\nGenerating swagger file: /tmp/tmpzysmz5uc\n2022-02-27 12:27:42,567 | root | INFO | Scoring timeout is found from os.environ: 60000 ms\n2022-02-27 12:27:56,148 | root | INFO | 200\n127.0.0.1 - - [27/Feb/2022:12:27:56 +0000] \"GET /swagger.json HTTP/1.0\" 200 3100 \"-\" \"Go-http-client/1.1\"\n2022-02-27 12:28:00,311 | root | INFO | 200\n127.0.0.1 - - [27/Feb/2022:12:28:00 +0000] \"GET /swagger.json HTTP/1.0\" 200 3100 \"-\" \"Go-http-client/1.1\"\n2022-02-27 12:28:05,857 | root | INFO | Validation Request Content-Type\n2022-02-27 12:28:05,858 | root | INFO | Scoring Timer is set to 60.0 seconds\n2022-02-27 12:28:06,141 | root | INFO | 200\n127.0.0.1 - - [27/Feb/2022:12:28:06 +0000] \"POST /score HTTP/1.0\" 200 25 \"-\" \"python-requests/2.27.1\"\n\n"
        }
      ],
      "execution_count": 31,
      "metadata": {
        "jupyter": {
          "outputs_hidden": false,
          "source_hidden": false
        },
        "nteract": {
          "transient": {
            "deleting": false
          }
        },
        "gather": {
          "logged": 1645964896056
        }
      }
    },
    {
      "cell_type": "code",
      "source": [
        "service.delete()\r\n",
        "compute_target.shutdown()\r\n"
      ],
      "outputs": [],
      "execution_count": 32,
      "metadata": {
        "jupyter": {
          "source_hidden": false,
          "outputs_hidden": false
        },
        "nteract": {
          "transient": {
            "deleting": false
          }
        }
      }
    },
    {
      "cell_type": "markdown",
      "source": [
        "**Submission Checklist**\n",
        "- I have registered the model.\n",
        "- I have deployed the model with the best accuracy as a webservice.\n",
        "- I have tested the webservice by sending a request to the model endpoint.\n",
        "- I have deleted the webservice and shutdown all the computes that I have used.\n",
        "- I have taken a screenshot showing the model endpoint as active.\n",
        "- The project includes a file containing the environment details.\n"
      ],
      "metadata": {}
    },
    {
      "cell_type": "markdown",
      "source": [],
      "metadata": {}
    }
  ],
  "metadata": {
    "kernel_info": {
      "name": "python3-azureml"
    },
    "kernelspec": {
      "name": "python3-azureml",
      "language": "python",
      "display_name": "Python 3.6 - AzureML"
    },
    "language_info": {
      "name": "python",
      "version": "3.6.9",
      "mimetype": "text/x-python",
      "codemirror_mode": {
        "name": "ipython",
        "version": 3
      },
      "pygments_lexer": "ipython3",
      "nbconvert_exporter": "python",
      "file_extension": ".py"
    },
    "nteract": {
      "version": "nteract-front-end@1.0.0"
    },
    "microsoft": {
      "host": {
        "AzureML": {
          "notebookHasBeenCompleted": true
        }
      }
    }
  },
  "nbformat": 4,
  "nbformat_minor": 2
}